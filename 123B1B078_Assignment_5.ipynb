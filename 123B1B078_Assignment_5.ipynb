{
  "nbformat": 4,
  "nbformat_minor": 0,
  "metadata": {
    "colab": {
      "provenance": []
    },
    "kernelspec": {
      "name": "python3",
      "display_name": "Python 3"
    },
    "language_info": {
      "name": "python"
    }
  },
  "cells": [
    {
      "cell_type": "markdown",
      "source": [
        "# **Assignment No. 5**\n",
        "\n",
        "## Title:\n",
        "An Image Recognition System to Classify Handwritten Digits (0–9) from the MNIST Dataset using Support Vector Machines (SVM)\n",
        "\n",
        "\n",
        "## Objectives:\n",
        "\n",
        "The main objectives of this assignment are as follows:\n",
        "\n",
        "1. Data Preprocessing: Load the MNIST dataset and prepare it for modeling.\n",
        "\n",
        "2. Model Application: Apply Support Vector Machine (SVM) models with different kernels (Polynomial and Linear).\n",
        "\n",
        "3. Self-Learning Exploration: Extend the study by applying additional kernels (RBF and Sigmoid) to compare performance.\n",
        "\n",
        "4. Performance Analysis: Evaluate model performance using key metrics such as Accuracy and Recall.\n",
        "\n",
        "## Outcomes:\n",
        "\n",
        "Upon successful completion of this assignment, the following will be demonstrated:\n",
        "\n",
        "1. The workflow for a complete image classification task using SVM.\n",
        "\n",
        "2. How SVM kernels affect the decision boundaries and model performance.\n",
        "\n",
        "3. The ability to compare multiple kernels and identify the most suitable one for handwritten digit recognition.\n",
        "\n",
        "4. The practical exploration of self-learning by extending beyond lab-taught methods."
      ],
      "metadata": {
        "id": "2V6wipyerth5"
      }
    },
    {
      "cell_type": "markdown",
      "source": [
        "# Support Vector Machines (SVM)\n",
        "## 1. Introduction:\n",
        "\n",
        "Support Vector Machines (SVM) is a supervised machine learning algorithm used for classification and regression problems. It works by finding a decision boundary that best separates different classes in the data.\n",
        "\n",
        "## 2. Key Concepts:\n",
        "\n",
        "Hyperplane:\n",
        "\n",
        "1. A line (in 2D) or plane (in 3D) that separates different classes.\n",
        "\n",
        "2. SVM chooses the hyperplane that best divides the classes with maximum distance from the nearest points.\n",
        "\n",
        "Margin:\n",
        "\n",
        "1. The distance between the hyperplane and the nearest data points from each class.\n",
        "\n",
        "2. SVM tries to maximize the margin, which helps the model generalize better on new data.\n",
        "\n",
        "Support Vectors:\n",
        "\n",
        "1. The data points that are closest to the hyperplane.\n",
        "\n",
        "2. They are crucial because they define the position of the hyperplane.\n",
        "\n",
        "Kernels:\n",
        "\n",
        "1. Kernels allow SVM to handle non-linear data by transforming it into higher dimensions.\n",
        "\n",
        "2. Common kernels:\n",
        "\n",
        "    *   Linear Kernel: For linearly separable data.\n",
        "    *   Polynomial Kernel: For simple non-linear patterns.\n",
        "    *   RBF (Radial Basis Function) Kernel: For complex non-linear patterns.\n",
        "    *   Sigmoid Kernel: Functions similar to a neural network.\n",
        "\n",
        "\n",
        "Regularization (C Parameter):\n",
        "\n",
        "1. Controls the trade-off between maximizing the margin and minimizing classification errors.\n",
        "\n",
        "## 3. Advantages of SVM:\n",
        "\n",
        "1. Effective in high-dimensional spaces.\n",
        "\n",
        "2. Works well for both linear and non-linear data.\n",
        "\n",
        "3. Focuses on the most important data points (support vectors).\n",
        "\n",
        "## 4. Limitations of SVM:\n",
        "\n",
        "1. Slower for very large datasets.\n",
        "\n",
        "2. Requires careful tuning of kernel type and parameters.\n",
        "\n",
        "3. Less interpretable than simpler models like linear regression."
      ],
      "metadata": {
        "id": "oR2FFuwVs7On"
      }
    },
    {
      "cell_type": "markdown",
      "source": [
        "This script imports all the necessary tools for a machine learning project using SVM. It brings in numpy and pandas for handling and processing data, matplotlib for visualizing results, and several modules from scikit-learn (sklearn), including datasets, model selection, the SVM classifier (SVC), and evaluation metrics like accuracy, recall, and confusion matrix. These tools together allow you to load data, train an SVM model, make predictions, and evaluate its performance efficiently."
      ],
      "metadata": {
        "id": "wzAhaOFLuX51"
      }
    },
    {
      "cell_type": "code",
      "execution_count": null,
      "metadata": {
        "id": "V-ztM8qGj8x7"
      },
      "outputs": [],
      "source": [
        "#Importing libraries\n",
        "import numpy as np\n",
        "import pandas as pd\n",
        "import matplotlib.pyplot as plt\n",
        "from sklearn import datasets\n",
        "from sklearn.model_selection import train_test_split\n",
        "from sklearn.svm import SVC\n",
        "from sklearn.metrics import accuracy_score, recall_score, confusion_matrix, classification_report"
      ]
    },
    {
      "cell_type": "markdown",
      "source": [
        "This part loads a dataset of handwritten digits, which is commonly used for testing image classification models. The dataset contains images of digits (0–9) along with their corresponding labels. It provides a structured way to train and evaluate machine learning models like SVM for classification tasks."
      ],
      "metadata": {
        "id": "XRf356Mkug7J"
      }
    },
    {
      "cell_type": "code",
      "source": [
        "# Load MNIST dataset\n",
        "from sklearn.datasets import load_digits\n",
        "data = load_digits()"
      ],
      "metadata": {
        "id": "tlN4Il80kYzr"
      },
      "execution_count": null,
      "outputs": []
    },
    {
      "cell_type": "markdown",
      "source": [
        "This part separates the dataset into features (input data) and labels (target values). Features are the information the model uses to make predictions, while labels are the actual outcomes. It also checks the shape of the data and features, which helps understand the size and structure of the dataset before training a machine learning model."
      ],
      "metadata": {
        "id": "ktDBOFP4ul_Y"
      }
    },
    {
      "cell_type": "code",
      "source": [
        "x = data.data\n",
        "y = data.target\n",
        "\n",
        "print(\"Shape of data:\", x.shape)\n",
        "print(\"Shape of labels:\", y.shape)\n",
        "print(\"Feature names:\", data.feature_names if hasattr(data, 'feature_names') else \"64 pixel features\")"
      ],
      "metadata": {
        "colab": {
          "base_uri": "https://localhost:8080/"
        },
        "id": "OldtWtNGkdMO",
        "outputId": "57835e8e-71a8-4412-e9d4-d60683f176b8"
      },
      "execution_count": null,
      "outputs": [
        {
          "output_type": "stream",
          "name": "stdout",
          "text": [
            "Shape of data: (1797, 64)\n",
            "Shape of labels: (1797,)\n",
            "Feature names: ['pixel_0_0', 'pixel_0_1', 'pixel_0_2', 'pixel_0_3', 'pixel_0_4', 'pixel_0_5', 'pixel_0_6', 'pixel_0_7', 'pixel_1_0', 'pixel_1_1', 'pixel_1_2', 'pixel_1_3', 'pixel_1_4', 'pixel_1_5', 'pixel_1_6', 'pixel_1_7', 'pixel_2_0', 'pixel_2_1', 'pixel_2_2', 'pixel_2_3', 'pixel_2_4', 'pixel_2_5', 'pixel_2_6', 'pixel_2_7', 'pixel_3_0', 'pixel_3_1', 'pixel_3_2', 'pixel_3_3', 'pixel_3_4', 'pixel_3_5', 'pixel_3_6', 'pixel_3_7', 'pixel_4_0', 'pixel_4_1', 'pixel_4_2', 'pixel_4_3', 'pixel_4_4', 'pixel_4_5', 'pixel_4_6', 'pixel_4_7', 'pixel_5_0', 'pixel_5_1', 'pixel_5_2', 'pixel_5_3', 'pixel_5_4', 'pixel_5_5', 'pixel_5_6', 'pixel_5_7', 'pixel_6_0', 'pixel_6_1', 'pixel_6_2', 'pixel_6_3', 'pixel_6_4', 'pixel_6_5', 'pixel_6_6', 'pixel_6_7', 'pixel_7_0', 'pixel_7_1', 'pixel_7_2', 'pixel_7_3', 'pixel_7_4', 'pixel_7_5', 'pixel_7_6', 'pixel_7_7']\n"
          ]
        }
      ]
    },
    {
      "cell_type": "markdown",
      "source": [
        "The dataset is divided into training and testing sets. The training set is used to teach the machine learning model, while the testing set is used to evaluate how well the model performs on new, unseen data. Checking the shapes of these sets helps ensure that the data has been split correctly and that the model will have enough data to learn and be tested effectively."
      ],
      "metadata": {
        "id": "IIMvpqNBus5R"
      }
    },
    {
      "cell_type": "code",
      "source": [
        "#Split dataset into training and testing sets\n",
        "x_train, x_test, y_train, y_test = train_test_split(x, y, test_size=0.3, random_state=42)\n",
        "\n",
        "print(\"Training set shape:\", x_train.shape)\n",
        "print(\"Testing set shape:\", x_test.shape)"
      ],
      "metadata": {
        "colab": {
          "base_uri": "https://localhost:8080/"
        },
        "id": "SUNKm0i-kpt7",
        "outputId": "58315adf-2918-4aaf-da89-69f58dec8665"
      },
      "execution_count": null,
      "outputs": [
        {
          "output_type": "stream",
          "name": "stdout",
          "text": [
            "Training set shape: (1257, 64)\n",
            "Testing set shape: (540, 64)\n"
          ]
        }
      ]
    },
    {
      "cell_type": "markdown",
      "source": [
        "## SVC with Polynomial Kernel\n",
        "\n",
        "Support Vector Classifier (SVC) is a type of Support Vector Machine used for classification tasks. It works by finding a decision boundary (hyperplane) that separates different classes of data. When the data is not linearly separable, polynomial kernels can be used to transform the data into a higher-dimensional space so that it becomes easier to separate. The degree of the polynomial controls the complexity of this transformation.\n",
        "\n",
        "\n",
        "In this step, the SVM model is trained using a polynomial kernel. The model learns from the training data to classify the inputs. After training, it makes predictions on the test data, and the accuracy and recall metrics are calculated to evaluate how well the model classifies the data. These metrics give an indication of the model’s performance and ability to generalize to unseen data."
      ],
      "metadata": {
        "id": "yWmjKCPTu6wO"
      }
    },
    {
      "cell_type": "code",
      "source": [
        "# Polynomial kernel\n",
        "\n",
        "poly = SVC(kernel='poly', degree=2)\n",
        "poly.fit(x_train, y_train)\n",
        "\n",
        "poly_y_pred = poly.predict(x_test)\n",
        "\n",
        "poly_acc = accuracy_score(y_test, poly_y_pred)\n",
        "poly_rec = recall_score(y_test, poly_y_pred, average='micro')\n",
        "\n",
        "\n",
        "print(\"Polynomial kernel:\")\n",
        "print(\"Accuracy:\", poly_acc)\n",
        "print(\"Recall:\", poly_rec)"
      ],
      "metadata": {
        "colab": {
          "base_uri": "https://localhost:8080/"
        },
        "id": "1u8onQSGkqZF",
        "outputId": "f7a7cb57-d3e1-4643-cf30-45e86480c72b"
      },
      "execution_count": null,
      "outputs": [
        {
          "output_type": "stream",
          "name": "stdout",
          "text": [
            "Polynomial kernel:\n",
            "Accuracy: 0.987037037037037\n",
            "Recall: 0.987037037037037\n"
          ]
        }
      ]
    },
    {
      "cell_type": "markdown",
      "source": [
        "The SVM model using a polynomial kernel was trained and tested on the dataset. This kernel maps the data into a higher-dimensional space, helping the model capture more complex relationships between features.\n",
        "\n",
        "Results:\n",
        "\n",
        "1. Accuracy: 98.70%\n",
        "\n",
        "2. Recall: 98.70%\n",
        "\n",
        "These results show that the polynomial kernel performs very well, correctly classifying most of the handwritten digit images."
      ],
      "metadata": {
        "id": "QY4zEFfHvmLt"
      }
    },
    {
      "cell_type": "markdown",
      "source": [
        "## SVC with Linear Kernel\n",
        "\n",
        "Support Vector Classifier (SVC) is a type of Support Vector Machine used for classification tasks. When the data is approximately linearly separable, a linear kernel is used to draw a straight decision boundary (hyperplane) that separates the classes efficiently. This kernel is simple, fast, and works well for datasets without complex non-linear patterns.\n",
        "\n",
        "In this step, the SVM model is trained using a linear kernel. The model learns from the training data to classify the inputs. After training, it predicts the labels for the test set, and accuracy and recall metrics are calculated to evaluate the model’s performance and its ability to generalize to unseen data."
      ],
      "metadata": {
        "id": "e642O3MOwOgC"
      }
    },
    {
      "cell_type": "code",
      "source": [
        "# Linear kernel\n",
        "\n",
        "linear = SVC(kernel='linear')\n",
        "linear.fit(x_train, y_train)\n",
        "\n",
        "lin_y_pred = linear.predict(x_test)\n",
        "\n",
        "lin_acc = accuracy_score(y_test, lin_y_pred)\n",
        "lin_rec = recall_score(y_test, lin_y_pred, average='micro')\n",
        "\n",
        "\n",
        "print(\"Linear kernel:\")\n",
        "print(\"Accuracy:\", lin_acc)\n",
        "print(\"Recall:\", lin_rec)"
      ],
      "metadata": {
        "colab": {
          "base_uri": "https://localhost:8080/"
        },
        "id": "eI5RV10al6Ko",
        "outputId": "8fa95811-c870-4c7e-da85-fde7798e7006"
      },
      "execution_count": null,
      "outputs": [
        {
          "output_type": "stream",
          "name": "stdout",
          "text": [
            "Linear kernel:\n",
            "Accuracy: 0.9796296296296296\n",
            "Recall: 0.9796296296296296\n"
          ]
        }
      ]
    },
    {
      "cell_type": "markdown",
      "source": [
        "The SVM model using a linear kernel was trained and tested on the dataset. It separates classes using a straight hyperplane, which is effective for data that is approximately linearly separable.\n",
        "\n",
        "Results:\n",
        "\n",
        "1. Accuracy: 97.96%\n",
        "\n",
        "2. Recall: 97.96%\n",
        "\n",
        "These results indicate that the linear kernel performs very well, correctly classifying most of the data."
      ],
      "metadata": {
        "id": "FiyxWhxAwpp-"
      }
    },
    {
      "cell_type": "markdown",
      "source": [
        "## Conclusion\n",
        "The assignment demonstrated the use of SVM with Polynomial and Linear kernels for classifying handwritten digits. The results showed that both kernels provide high accuracy, confirming that SVM is an effective method for this task. The comparison between Polynomial and Linear kernels highlighted how slightly more complex transformations, like the polynomial kernel, can improve classification performance when non-linear relationships exist in the data. Overall, the assignment reinforced understanding of SVM fundamentals, kernel selection, and model evaluation using accuracy and recall."
      ],
      "metadata": {
        "id": "Yfh5PmzZzJ6a"
      }
    },
    {
      "cell_type": "markdown",
      "source": [
        "# Self Learning\n",
        "\n",
        "## RBF Kernel\n",
        "\n",
        "The SVM model using an RBF (Radial Basis Function) kernel was trained and tested on the dataset. This kernel can handle complex, non-linear data by mapping it into a higher-dimensional space, which helps the model to capture complex, non-linear patterns in the data."
      ],
      "metadata": {
        "id": "GXCa21COw7Ky"
      }
    },
    {
      "cell_type": "code",
      "source": [
        "# RBF Kernel\n",
        "rbf = SVC(kernel='rbf')\n",
        "rbf.fit(x_train, y_train)\n",
        "\n",
        "rbf_y_pred = rbf.predict(x_test)\n",
        "\n",
        "rbf_acc = accuracy_score(y_test, rbf_y_pred)\n",
        "rbf_rec = recall_score(y_test, rbf_y_pred, average='micro')\n",
        "\n",
        "\n",
        "print(\"RBF kernel:\")\n",
        "print(\"Accuracy:\", rbf_acc)\n",
        "print(\"Recall:\", rbf_rec)"
      ],
      "metadata": {
        "colab": {
          "base_uri": "https://localhost:8080/"
        },
        "id": "78geSsLio4It",
        "outputId": "4809c7ca-a912-4e77-dc88-d94abaec7d22"
      },
      "execution_count": null,
      "outputs": [
        {
          "output_type": "stream",
          "name": "stdout",
          "text": [
            "RBF kernel:\n",
            "Accuracy: 0.987037037037037\n",
            "Recall: 0.987037037037037\n"
          ]
        }
      ]
    },
    {
      "cell_type": "markdown",
      "source": [
        "Results:\n",
        "\n",
        "1. Accuracy: 98.70%\n",
        "\n",
        "2. Recall: 98.70%\n",
        "\n",
        "These results show that the RBF kernel performs very well, correctly classifying most of the data and handling non-linear relationships effectively."
      ],
      "metadata": {
        "id": "dMy8elg-xNKB"
      }
    },
    {
      "cell_type": "markdown",
      "source": [
        "## Sigmoid Kernel\n",
        "The SVM model using a Sigmoid kernel was trained and tested on the dataset. The Sigmoid kernel applies a non-linear transformation to the input features, similar to the activation function used in neural networks. This allows the model to capture non-linear patterns in the data that cannot be separated by a straight line.\n",
        "\n",
        "In this step, the model learns from the training data (x_train and y_train) to identify patterns and build a decision boundary. After training, it predicts the labels for the test data (x_test). The accuracy and recall metrics are calculated to evaluate how well the model classifies the data."
      ],
      "metadata": {
        "id": "SXmIEXxSxlwm"
      }
    },
    {
      "cell_type": "code",
      "source": [
        "# Sigmoid Kernel\n",
        "sigmoid = SVC(kernel='sigmoid')\n",
        "\n",
        "sigmoid.fit(x_train, y_train)\n",
        "sig_y_pred = sigmoid.predict(x_test)\n",
        "\n",
        "sig_acc = accuracy_score(y_test, sig_y_pred)\n",
        "sig_rec = recall_score(y_test, sig_y_pred, average='micro')\n",
        "\n",
        "\n",
        "print(\"Sigmoid kernel:\")\n",
        "print(\"Accuracy:\", sig_acc)\n",
        "print(\"Recall:\", sig_rec)"
      ],
      "metadata": {
        "colab": {
          "base_uri": "https://localhost:8080/"
        },
        "id": "5jOEUMH4o96w",
        "outputId": "9d89e514-2c5a-43ac-b257-153c10913f32"
      },
      "execution_count": null,
      "outputs": [
        {
          "output_type": "stream",
          "name": "stdout",
          "text": [
            "Sigmoid kernel:\n",
            "Accuracy: 0.9074074074074074\n",
            "Recall: 0.9074074074074074\n"
          ]
        }
      ]
    },
    {
      "cell_type": "markdown",
      "source": [
        "Results:\n",
        "\n",
        "1. Accuracy: 90.74%\n",
        "\n",
        "2. Recall: 90.74%\n",
        "\n",
        "These results show that the Sigmoid kernel performs reasonably well, though its performance is lower compared to Polynomial and RBF kernels, indicating it may not capture complex patterns as effectively."
      ],
      "metadata": {
        "id": "vphmE7zUxx_u"
      }
    },
    {
      "cell_type": "markdown",
      "source": [
        "This step creates a comparison table to summarize the performance of all four SVM kernels: Polynomial, Linear, RBF, and Sigmoid. The table lists their accuracy and recall, allowing a clear view of which kernel performs best on the dataset.\n",
        "\n",
        "The comparison helps identify the most effective kernel for the classification task and highlights how different kernels handle linear and non-linear patterns in the data."
      ],
      "metadata": {
        "id": "Dyg7jc1gx5Sz"
      }
    },
    {
      "cell_type": "code",
      "source": [
        "# Comparison\n",
        "comparison = {\n",
        "    'Kernel Type': ['Polynomial', 'Linear', 'RBF', 'Sigmoid'],\n",
        "    'Accuracy': [poly_acc, lin_acc, rbf_acc, sig_acc],\n",
        "    'Recall': [poly_rec, lin_rec, rbf_rec, sig_rec]\n",
        "}\n",
        "\n",
        "comparison_table = pd.DataFrame(comparison)\n",
        "\n",
        "print(\"Comparison:\\n\")\n",
        "comparison_table\n"
      ],
      "metadata": {
        "colab": {
          "base_uri": "https://localhost:8080/",
          "height": 209
        },
        "id": "VBLPcIxCpPOL",
        "outputId": "11087ada-8a6d-4322-a67c-45006ea81d61"
      },
      "execution_count": null,
      "outputs": [
        {
          "output_type": "stream",
          "name": "stdout",
          "text": [
            "Comparison:\n",
            "\n"
          ]
        },
        {
          "output_type": "execute_result",
          "data": {
            "text/plain": [
              "  Kernel Type  Accuracy    Recall\n",
              "0  Polynomial  0.987037  0.987037\n",
              "1      Linear  0.979630  0.979630\n",
              "2         RBF  0.987037  0.987037\n",
              "3     Sigmoid  0.907407  0.907407"
            ],
            "text/html": [
              "\n",
              "  <div id=\"df-d12973e5-00b1-479a-a8eb-d82c584b3fac\" class=\"colab-df-container\">\n",
              "    <div>\n",
              "<style scoped>\n",
              "    .dataframe tbody tr th:only-of-type {\n",
              "        vertical-align: middle;\n",
              "    }\n",
              "\n",
              "    .dataframe tbody tr th {\n",
              "        vertical-align: top;\n",
              "    }\n",
              "\n",
              "    .dataframe thead th {\n",
              "        text-align: right;\n",
              "    }\n",
              "</style>\n",
              "<table border=\"1\" class=\"dataframe\">\n",
              "  <thead>\n",
              "    <tr style=\"text-align: right;\">\n",
              "      <th></th>\n",
              "      <th>Kernel Type</th>\n",
              "      <th>Accuracy</th>\n",
              "      <th>Recall</th>\n",
              "    </tr>\n",
              "  </thead>\n",
              "  <tbody>\n",
              "    <tr>\n",
              "      <th>0</th>\n",
              "      <td>Polynomial</td>\n",
              "      <td>0.987037</td>\n",
              "      <td>0.987037</td>\n",
              "    </tr>\n",
              "    <tr>\n",
              "      <th>1</th>\n",
              "      <td>Linear</td>\n",
              "      <td>0.979630</td>\n",
              "      <td>0.979630</td>\n",
              "    </tr>\n",
              "    <tr>\n",
              "      <th>2</th>\n",
              "      <td>RBF</td>\n",
              "      <td>0.987037</td>\n",
              "      <td>0.987037</td>\n",
              "    </tr>\n",
              "    <tr>\n",
              "      <th>3</th>\n",
              "      <td>Sigmoid</td>\n",
              "      <td>0.907407</td>\n",
              "      <td>0.907407</td>\n",
              "    </tr>\n",
              "  </tbody>\n",
              "</table>\n",
              "</div>\n",
              "    <div class=\"colab-df-buttons\">\n",
              "\n",
              "  <div class=\"colab-df-container\">\n",
              "    <button class=\"colab-df-convert\" onclick=\"convertToInteractive('df-d12973e5-00b1-479a-a8eb-d82c584b3fac')\"\n",
              "            title=\"Convert this dataframe to an interactive table.\"\n",
              "            style=\"display:none;\">\n",
              "\n",
              "  <svg xmlns=\"http://www.w3.org/2000/svg\" height=\"24px\" viewBox=\"0 -960 960 960\">\n",
              "    <path d=\"M120-120v-720h720v720H120Zm60-500h600v-160H180v160Zm220 220h160v-160H400v160Zm0 220h160v-160H400v160ZM180-400h160v-160H180v160Zm440 0h160v-160H620v160ZM180-180h160v-160H180v160Zm440 0h160v-160H620v160Z\"/>\n",
              "  </svg>\n",
              "    </button>\n",
              "\n",
              "  <style>\n",
              "    .colab-df-container {\n",
              "      display:flex;\n",
              "      gap: 12px;\n",
              "    }\n",
              "\n",
              "    .colab-df-convert {\n",
              "      background-color: #E8F0FE;\n",
              "      border: none;\n",
              "      border-radius: 50%;\n",
              "      cursor: pointer;\n",
              "      display: none;\n",
              "      fill: #1967D2;\n",
              "      height: 32px;\n",
              "      padding: 0 0 0 0;\n",
              "      width: 32px;\n",
              "    }\n",
              "\n",
              "    .colab-df-convert:hover {\n",
              "      background-color: #E2EBFA;\n",
              "      box-shadow: 0px 1px 2px rgba(60, 64, 67, 0.3), 0px 1px 3px 1px rgba(60, 64, 67, 0.15);\n",
              "      fill: #174EA6;\n",
              "    }\n",
              "\n",
              "    .colab-df-buttons div {\n",
              "      margin-bottom: 4px;\n",
              "    }\n",
              "\n",
              "    [theme=dark] .colab-df-convert {\n",
              "      background-color: #3B4455;\n",
              "      fill: #D2E3FC;\n",
              "    }\n",
              "\n",
              "    [theme=dark] .colab-df-convert:hover {\n",
              "      background-color: #434B5C;\n",
              "      box-shadow: 0px 1px 3px 1px rgba(0, 0, 0, 0.15);\n",
              "      filter: drop-shadow(0px 1px 2px rgba(0, 0, 0, 0.3));\n",
              "      fill: #FFFFFF;\n",
              "    }\n",
              "  </style>\n",
              "\n",
              "    <script>\n",
              "      const buttonEl =\n",
              "        document.querySelector('#df-d12973e5-00b1-479a-a8eb-d82c584b3fac button.colab-df-convert');\n",
              "      buttonEl.style.display =\n",
              "        google.colab.kernel.accessAllowed ? 'block' : 'none';\n",
              "\n",
              "      async function convertToInteractive(key) {\n",
              "        const element = document.querySelector('#df-d12973e5-00b1-479a-a8eb-d82c584b3fac');\n",
              "        const dataTable =\n",
              "          await google.colab.kernel.invokeFunction('convertToInteractive',\n",
              "                                                    [key], {});\n",
              "        if (!dataTable) return;\n",
              "\n",
              "        const docLinkHtml = 'Like what you see? Visit the ' +\n",
              "          '<a target=\"_blank\" href=https://colab.research.google.com/notebooks/data_table.ipynb>data table notebook</a>'\n",
              "          + ' to learn more about interactive tables.';\n",
              "        element.innerHTML = '';\n",
              "        dataTable['output_type'] = 'display_data';\n",
              "        await google.colab.output.renderOutput(dataTable, element);\n",
              "        const docLink = document.createElement('div');\n",
              "        docLink.innerHTML = docLinkHtml;\n",
              "        element.appendChild(docLink);\n",
              "      }\n",
              "    </script>\n",
              "  </div>\n",
              "\n",
              "\n",
              "    <div id=\"df-9355b5a9-2864-4a45-9ec8-b233bfe06c29\">\n",
              "      <button class=\"colab-df-quickchart\" onclick=\"quickchart('df-9355b5a9-2864-4a45-9ec8-b233bfe06c29')\"\n",
              "                title=\"Suggest charts\"\n",
              "                style=\"display:none;\">\n",
              "\n",
              "<svg xmlns=\"http://www.w3.org/2000/svg\" height=\"24px\"viewBox=\"0 0 24 24\"\n",
              "     width=\"24px\">\n",
              "    <g>\n",
              "        <path d=\"M19 3H5c-1.1 0-2 .9-2 2v14c0 1.1.9 2 2 2h14c1.1 0 2-.9 2-2V5c0-1.1-.9-2-2-2zM9 17H7v-7h2v7zm4 0h-2V7h2v10zm4 0h-2v-4h2v4z\"/>\n",
              "    </g>\n",
              "</svg>\n",
              "      </button>\n",
              "\n",
              "<style>\n",
              "  .colab-df-quickchart {\n",
              "      --bg-color: #E8F0FE;\n",
              "      --fill-color: #1967D2;\n",
              "      --hover-bg-color: #E2EBFA;\n",
              "      --hover-fill-color: #174EA6;\n",
              "      --disabled-fill-color: #AAA;\n",
              "      --disabled-bg-color: #DDD;\n",
              "  }\n",
              "\n",
              "  [theme=dark] .colab-df-quickchart {\n",
              "      --bg-color: #3B4455;\n",
              "      --fill-color: #D2E3FC;\n",
              "      --hover-bg-color: #434B5C;\n",
              "      --hover-fill-color: #FFFFFF;\n",
              "      --disabled-bg-color: #3B4455;\n",
              "      --disabled-fill-color: #666;\n",
              "  }\n",
              "\n",
              "  .colab-df-quickchart {\n",
              "    background-color: var(--bg-color);\n",
              "    border: none;\n",
              "    border-radius: 50%;\n",
              "    cursor: pointer;\n",
              "    display: none;\n",
              "    fill: var(--fill-color);\n",
              "    height: 32px;\n",
              "    padding: 0;\n",
              "    width: 32px;\n",
              "  }\n",
              "\n",
              "  .colab-df-quickchart:hover {\n",
              "    background-color: var(--hover-bg-color);\n",
              "    box-shadow: 0 1px 2px rgba(60, 64, 67, 0.3), 0 1px 3px 1px rgba(60, 64, 67, 0.15);\n",
              "    fill: var(--button-hover-fill-color);\n",
              "  }\n",
              "\n",
              "  .colab-df-quickchart-complete:disabled,\n",
              "  .colab-df-quickchart-complete:disabled:hover {\n",
              "    background-color: var(--disabled-bg-color);\n",
              "    fill: var(--disabled-fill-color);\n",
              "    box-shadow: none;\n",
              "  }\n",
              "\n",
              "  .colab-df-spinner {\n",
              "    border: 2px solid var(--fill-color);\n",
              "    border-color: transparent;\n",
              "    border-bottom-color: var(--fill-color);\n",
              "    animation:\n",
              "      spin 1s steps(1) infinite;\n",
              "  }\n",
              "\n",
              "  @keyframes spin {\n",
              "    0% {\n",
              "      border-color: transparent;\n",
              "      border-bottom-color: var(--fill-color);\n",
              "      border-left-color: var(--fill-color);\n",
              "    }\n",
              "    20% {\n",
              "      border-color: transparent;\n",
              "      border-left-color: var(--fill-color);\n",
              "      border-top-color: var(--fill-color);\n",
              "    }\n",
              "    30% {\n",
              "      border-color: transparent;\n",
              "      border-left-color: var(--fill-color);\n",
              "      border-top-color: var(--fill-color);\n",
              "      border-right-color: var(--fill-color);\n",
              "    }\n",
              "    40% {\n",
              "      border-color: transparent;\n",
              "      border-right-color: var(--fill-color);\n",
              "      border-top-color: var(--fill-color);\n",
              "    }\n",
              "    60% {\n",
              "      border-color: transparent;\n",
              "      border-right-color: var(--fill-color);\n",
              "    }\n",
              "    80% {\n",
              "      border-color: transparent;\n",
              "      border-right-color: var(--fill-color);\n",
              "      border-bottom-color: var(--fill-color);\n",
              "    }\n",
              "    90% {\n",
              "      border-color: transparent;\n",
              "      border-bottom-color: var(--fill-color);\n",
              "    }\n",
              "  }\n",
              "</style>\n",
              "\n",
              "      <script>\n",
              "        async function quickchart(key) {\n",
              "          const quickchartButtonEl =\n",
              "            document.querySelector('#' + key + ' button');\n",
              "          quickchartButtonEl.disabled = true;  // To prevent multiple clicks.\n",
              "          quickchartButtonEl.classList.add('colab-df-spinner');\n",
              "          try {\n",
              "            const charts = await google.colab.kernel.invokeFunction(\n",
              "                'suggestCharts', [key], {});\n",
              "          } catch (error) {\n",
              "            console.error('Error during call to suggestCharts:', error);\n",
              "          }\n",
              "          quickchartButtonEl.classList.remove('colab-df-spinner');\n",
              "          quickchartButtonEl.classList.add('colab-df-quickchart-complete');\n",
              "        }\n",
              "        (() => {\n",
              "          let quickchartButtonEl =\n",
              "            document.querySelector('#df-9355b5a9-2864-4a45-9ec8-b233bfe06c29 button');\n",
              "          quickchartButtonEl.style.display =\n",
              "            google.colab.kernel.accessAllowed ? 'block' : 'none';\n",
              "        })();\n",
              "      </script>\n",
              "    </div>\n",
              "\n",
              "  <div id=\"id_e85c2d21-0f48-451b-a2e9-45919b2ad456\">\n",
              "    <style>\n",
              "      .colab-df-generate {\n",
              "        background-color: #E8F0FE;\n",
              "        border: none;\n",
              "        border-radius: 50%;\n",
              "        cursor: pointer;\n",
              "        display: none;\n",
              "        fill: #1967D2;\n",
              "        height: 32px;\n",
              "        padding: 0 0 0 0;\n",
              "        width: 32px;\n",
              "      }\n",
              "\n",
              "      .colab-df-generate:hover {\n",
              "        background-color: #E2EBFA;\n",
              "        box-shadow: 0px 1px 2px rgba(60, 64, 67, 0.3), 0px 1px 3px 1px rgba(60, 64, 67, 0.15);\n",
              "        fill: #174EA6;\n",
              "      }\n",
              "\n",
              "      [theme=dark] .colab-df-generate {\n",
              "        background-color: #3B4455;\n",
              "        fill: #D2E3FC;\n",
              "      }\n",
              "\n",
              "      [theme=dark] .colab-df-generate:hover {\n",
              "        background-color: #434B5C;\n",
              "        box-shadow: 0px 1px 3px 1px rgba(0, 0, 0, 0.15);\n",
              "        filter: drop-shadow(0px 1px 2px rgba(0, 0, 0, 0.3));\n",
              "        fill: #FFFFFF;\n",
              "      }\n",
              "    </style>\n",
              "    <button class=\"colab-df-generate\" onclick=\"generateWithVariable('comparison_table')\"\n",
              "            title=\"Generate code using this dataframe.\"\n",
              "            style=\"display:none;\">\n",
              "\n",
              "  <svg xmlns=\"http://www.w3.org/2000/svg\" height=\"24px\"viewBox=\"0 0 24 24\"\n",
              "       width=\"24px\">\n",
              "    <path d=\"M7,19H8.4L18.45,9,17,7.55,7,17.6ZM5,21V16.75L18.45,3.32a2,2,0,0,1,2.83,0l1.4,1.43a1.91,1.91,0,0,1,.58,1.4,1.91,1.91,0,0,1-.58,1.4L9.25,21ZM18.45,9,17,7.55Zm-12,3A5.31,5.31,0,0,0,4.9,8.1,5.31,5.31,0,0,0,1,6.5,5.31,5.31,0,0,0,4.9,4.9,5.31,5.31,0,0,0,6.5,1,5.31,5.31,0,0,0,8.1,4.9,5.31,5.31,0,0,0,12,6.5,5.46,5.46,0,0,0,6.5,12Z\"/>\n",
              "  </svg>\n",
              "    </button>\n",
              "    <script>\n",
              "      (() => {\n",
              "      const buttonEl =\n",
              "        document.querySelector('#id_e85c2d21-0f48-451b-a2e9-45919b2ad456 button.colab-df-generate');\n",
              "      buttonEl.style.display =\n",
              "        google.colab.kernel.accessAllowed ? 'block' : 'none';\n",
              "\n",
              "      buttonEl.onclick = () => {\n",
              "        google.colab.notebook.generateWithVariable('comparison_table');\n",
              "      }\n",
              "      })();\n",
              "    </script>\n",
              "  </div>\n",
              "\n",
              "    </div>\n",
              "  </div>\n"
            ],
            "application/vnd.google.colaboratory.intrinsic+json": {
              "type": "dataframe",
              "variable_name": "comparison_table",
              "summary": "{\n  \"name\": \"comparison_table\",\n  \"rows\": 4,\n  \"fields\": [\n    {\n      \"column\": \"Kernel Type\",\n      \"properties\": {\n        \"dtype\": \"string\",\n        \"num_unique_values\": 4,\n        \"samples\": [\n          \"Linear\",\n          \"Sigmoid\",\n          \"Polynomial\"\n        ],\n        \"semantic_type\": \"\",\n        \"description\": \"\"\n      }\n    },\n    {\n      \"column\": \"Accuracy\",\n      \"properties\": {\n        \"dtype\": \"number\",\n        \"std\": 0.03873794928922912,\n        \"min\": 0.9074074074074074,\n        \"max\": 0.987037037037037,\n        \"num_unique_values\": 3,\n        \"samples\": [\n          0.987037037037037,\n          0.9796296296296296,\n          0.9074074074074074\n        ],\n        \"semantic_type\": \"\",\n        \"description\": \"\"\n      }\n    },\n    {\n      \"column\": \"Recall\",\n      \"properties\": {\n        \"dtype\": \"number\",\n        \"std\": 0.03873794928922912,\n        \"min\": 0.9074074074074074,\n        \"max\": 0.987037037037037,\n        \"num_unique_values\": 3,\n        \"samples\": [\n          0.987037037037037,\n          0.9796296296296296,\n          0.9074074074074074\n        ],\n        \"semantic_type\": \"\",\n        \"description\": \"\"\n      }\n    }\n  ]\n}"
            }
          },
          "metadata": {},
          "execution_count": 41
        }
      ]
    },
    {
      "cell_type": "markdown",
      "source": [
        "Observation:\n",
        "\n",
        "1. Both Polynomial and RBF kernels achieve the highest performance (98.70%), indicating they effectively handle non-linear patterns.\n",
        "\n",
        "2. The Linear kernel also performs well (97.96%) but slightly lower, as it cannot capture some non-linear relationships.\n",
        "\n",
        "3. The Sigmoid kernel has the lowest performance (90.74%), showing it is less effective for this dataset compared to the other kernels."
      ],
      "metadata": {
        "id": "0AJpoullx_6Z"
      }
    },
    {
      "cell_type": "markdown",
      "source": [
        "A bar chart is created to visually compare the accuracy of different SVM kernels: Polynomial, Linear, RBF, and Sigmoid. This visualization makes it easier to see which kernels perform best."
      ],
      "metadata": {
        "id": "As4Pm9lZyIxJ"
      }
    },
    {
      "cell_type": "code",
      "source": [
        "# Visualization\n",
        "\n",
        "kernels = ['Polynomial', 'Linear', 'RBF', 'Sigmoid']\n",
        "accuracy = [poly_acc, lin_acc, rbf_acc, sig_acc]\n",
        "\n",
        "plt.figure(figsize=(6,4))\n",
        "plt.bar(kernels, accuracy, color='skyblue')\n",
        "plt.ylim(0.85, 1.0)\n",
        "plt.title('Accuracy of SVM Kernels on MNIST')\n",
        "plt.ylabel('Accuracy')\n",
        "plt.show()\n"
      ],
      "metadata": {
        "colab": {
          "base_uri": "https://localhost:8080/",
          "height": 391
        },
        "id": "G6pWRTBPpido",
        "outputId": "c38b6a5f-ce8b-4b09-9b95-64c77281e77d"
      },
      "execution_count": null,
      "outputs": [
        {
          "output_type": "display_data",
          "data": {
            "text/plain": [
              "<Figure size 600x400 with 1 Axes>"
            ],
            "image/png": "[encoded data removed]"
          },
          "metadata": {}
        }
      ]
    },
    {
      "cell_type": "markdown",
      "source": [
        "Observation:\n",
        "\n",
        "1. Polynomial and RBF kernels achieve the highest accuracy, confirming their effectiveness for non-linear data.\n",
        "\n",
        "2. Linear kernel performs slightly lower but still well.\n",
        "\n",
        "3. Sigmoid kernel has the lowest accuracy, indicating it is less suitable for this dataset."
      ],
      "metadata": {
        "id": "JXNFbDNcyLeg"
      }
    },
    {
      "cell_type": "markdown",
      "source": [
        "## Conclusion\n",
        "In the self-learning extension, additional kernels—RBF and Sigmoid—were explored, and all four kernels were compared using a table and bar chart. The results emphasized the strengths of non-linear kernels, particularly RBF, in capturing complex patterns, while the Sigmoid kernel showed comparatively lower performance. This part highlighted the value of experimenting with different kernels and visualizing their outcomes to make informed decisions about model selection. It provided practical insight into the flexibility of SVM and the importance of kernel choice for optimizing classification performance."
      ],
      "metadata": {
        "id": "Y2_YpEvzzSLi"
      }
    }
  ]
}