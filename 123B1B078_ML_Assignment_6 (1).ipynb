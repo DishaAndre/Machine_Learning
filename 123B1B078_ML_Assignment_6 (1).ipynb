{
  "nbformat": 4,
  "nbformat_minor": 0,
  "metadata": {
    "colab": {
      "provenance": []
    },
    "kernelspec": {
      "name": "python3",
      "display_name": "Python 3"
    },
    "language_info": {
      "name": "python"
    }
  },
  "cells": [
    {
      "cell_type": "markdown",
      "source": [
        "# **Assignment No. 6**\n",
        "## Title:\n",
        "\n",
        "A botanist wants to classify different Iris species based on their flower characteristics like sepal length, sepal width, petal length, and petal width. The goal is to apply clustering techniques to group the flowers into meaningful categories.\n",
        "\n",
        "## Objectives:\n",
        "\n",
        "The main objectives of this assignment are as follows:\n",
        "\n",
        "1. Data Preparation:\n",
        "Load and prepare the Iris dataset for clustering by handling missing values and scaling the features.\n",
        "\n",
        "2. Model Training (K-Means Clustering):\n",
        "Apply the K-Means algorithm to form clusters and analyze patterns among flower features.\n",
        "\n",
        "3. Self-Learning Extensions:\n",
        "\n",
        "  * Use the Elbow Method and Silhouette Score to determine the optimal number of clusters (k).\n",
        "\n",
        "  * Implement Hierarchical Clustering (Ward Linkage) to explore cluster formation using distance-based merging.\n",
        "\n",
        "  * Apply DBSCAN to detect dense regions and noise/outliers in the dataset.\n",
        "\n",
        "4. Comparative Analysis:\n",
        "Evaluate and compare clustering results using Silhouette Score, Calinski–Harabasz Index, and Davies–Bouldin Index to determine the best-performing algorithm.\n",
        "\n",
        "5. Visualization:\n",
        "Visualize clusters and centroids using scatter plots for better understanding of group separation.\n",
        "\n",
        "## Outcomes:\n",
        "Upon successful completion of this assignment, the following concepts will be demonstrated:\n",
        "\n",
        "1. Understanding of unsupervised learning and clustering.\n",
        "\n",
        "2. Implementation of K-Means, Hierarchical, and DBSCAN clustering.\n",
        "\n",
        "3. Determining the best k using Elbow and Silhouette methods.\n",
        "\n",
        "4. Comparative analysis of clustering models with proper evaluation and visualization."
      ],
      "metadata": {
        "id": "zMs3nVbFpo8O"
      }
    },
    {
      "cell_type": "markdown",
      "source": [
        "This code imports libraries for clustering analysis.\n",
        "`pandas` and `numpy` handle data, `matplotlib` and `seaborn` create visualizations, `load_iris` loads the dataset, `KMeans` performs clustering, and `StandardScaler` scales data for better model accuracy.\n"
      ],
      "metadata": {
        "id": "v3kIsrRAqb0i"
      }
    },
    {
      "cell_type": "code",
      "execution_count": 62,
      "metadata": {
        "id": "7lsO1Oyrh_7D"
      },
      "outputs": [],
      "source": [
        "# Import required libraries\n",
        "import pandas as pd\n",
        "import numpy as np\n",
        "import matplotlib.pyplot as plt\n",
        "import seaborn as sns\n",
        "from sklearn.datasets import load_iris\n",
        "from sklearn.cluster import KMeans\n",
        "from sklearn.preprocessing import StandardScaler"
      ]
    },
    {
      "cell_type": "markdown",
      "source": [
        "This code loads the built-in Iris dataset and converts it into a pandas DataFrame.\n",
        "`load_iris()` provides the data and feature names, while `pd.DataFrame()` organizes it into tabular form for easy analysis and processing.\n"
      ],
      "metadata": {
        "id": "XYvrraGfqff3"
      }
    },
    {
      "cell_type": "code",
      "source": [
        "# Load iris dataset\n",
        "iris = load_iris()\n",
        "\n",
        "# Convert to DataFrame\n",
        "df = pd.DataFrame(iris.data, columns=iris.feature_names)"
      ],
      "metadata": {
        "id": "EkcRJbftiD_E"
      },
      "execution_count": 63,
      "outputs": []
    },
    {
      "cell_type": "markdown",
      "source": [
        "This step adds the species labels to the dataset for reference and displays the first few rows to check the data structure and values.\n"
      ],
      "metadata": {
        "id": "mjKe8N6_qkkE"
      }
    },
    {
      "cell_type": "code",
      "source": [
        "# Add target column for reference\n",
        "df['species'] = iris.target\n",
        "\n",
        "# Display first few rows\n",
        "df.head()"
      ],
      "metadata": {
        "colab": {
          "base_uri": "https://localhost:8080/",
          "height": 206
        },
        "id": "mzKCzJNqiGtG",
        "outputId": "fdf44ff1-2e99-480b-8f3c-f7f94bfe481e"
      },
      "execution_count": 64,
      "outputs": [
        {
          "output_type": "execute_result",
          "data": {
            "text/plain": [
              "   sepal length (cm)  sepal width (cm)  petal length (cm)  petal width (cm)  \\\n",
              "0                5.1               3.5                1.4               0.2   \n",
              "1                4.9               3.0                1.4               0.2   \n",
              "2                4.7               3.2                1.3               0.2   \n",
              "3                4.6               3.1                1.5               0.2   \n",
              "4                5.0               3.6                1.4               0.2   \n",
              "\n",
              "   species  \n",
              "0        0  \n",
              "1        0  \n",
              "2        0  \n",
              "3        0  \n",
              "4        0  "
            ],
            "text/html": [
              "\n",
              "  <div id=\"df-69ff5a8f-fc8f-48a8-8954-d46c84b4cb04\" class=\"colab-df-container\">\n",
              "    <div>\n",
              "<style scoped>\n",
              "    .dataframe tbody tr th:only-of-type {\n",
              "        vertical-align: middle;\n",
              "    }\n",
              "\n",
              "    .dataframe tbody tr th {\n",
              "        vertical-align: top;\n",
              "    }\n",
              "\n",
              "    .dataframe thead th {\n",
              "        text-align: right;\n",
              "    }\n",
              "</style>\n",
              "<table border=\"1\" class=\"dataframe\">\n",
              "  <thead>\n",
              "    <tr style=\"text-align: right;\">\n",
              "      <th></th>\n",
              "      <th>sepal length (cm)</th>\n",
              "      <th>sepal width (cm)</th>\n",
              "      <th>petal length (cm)</th>\n",
              "      <th>petal width (cm)</th>\n",
              "      <th>species</th>\n",
              "    </tr>\n",
              "  </thead>\n",
              "  <tbody>\n",
              "    <tr>\n",
              "      <th>0</th>\n",
              "      <td>5.1</td>\n",
              "      <td>3.5</td>\n",
              "      <td>1.4</td>\n",
              "      <td>0.2</td>\n",
              "      <td>0</td>\n",
              "    </tr>\n",
              "    <tr>\n",
              "      <th>1</th>\n",
              "      <td>4.9</td>\n",
              "      <td>3.0</td>\n",
              "      <td>1.4</td>\n",
              "      <td>0.2</td>\n",
              "      <td>0</td>\n",
              "    </tr>\n",
              "    <tr>\n",
              "      <th>2</th>\n",
              "      <td>4.7</td>\n",
              "      <td>3.2</td>\n",
              "      <td>1.3</td>\n",
              "      <td>0.2</td>\n",
              "      <td>0</td>\n",
              "    </tr>\n",
              "    <tr>\n",
              "      <th>3</th>\n",
              "      <td>4.6</td>\n",
              "      <td>3.1</td>\n",
              "      <td>1.5</td>\n",
              "      <td>0.2</td>\n",
              "      <td>0</td>\n",
              "    </tr>\n",
              "    <tr>\n",
              "      <th>4</th>\n",
              "      <td>5.0</td>\n",
              "      <td>3.6</td>\n",
              "      <td>1.4</td>\n",
              "      <td>0.2</td>\n",
              "      <td>0</td>\n",
              "    </tr>\n",
              "  </tbody>\n",
              "</table>\n",
              "</div>\n",
              "    <div class=\"colab-df-buttons\">\n",
              "\n",
              "  <div class=\"colab-df-container\">\n",
              "    <button class=\"colab-df-convert\" onclick=\"convertToInteractive('df-69ff5a8f-fc8f-48a8-8954-d46c84b4cb04')\"\n",
              "            title=\"Convert this dataframe to an interactive table.\"\n",
              "            style=\"display:none;\">\n",
              "\n",
              "  <svg xmlns=\"http://www.w3.org/2000/svg\" height=\"24px\" viewBox=\"0 -960 960 960\">\n",
              "    <path d=\"M120-120v-720h720v720H120Zm60-500h600v-160H180v160Zm220 220h160v-160H400v160Zm0 220h160v-160H400v160ZM180-400h160v-160H180v160Zm440 0h160v-160H620v160ZM180-180h160v-160H180v160Zm440 0h160v-160H620v160Z\"/>\n",
              "  </svg>\n",
              "    </button>\n",
              "\n",
              "  <style>\n",
              "    .colab-df-container {\n",
              "      display:flex;\n",
              "      gap: 12px;\n",
              "    }\n",
              "\n",
              "    .colab-df-convert {\n",
              "      background-color: #E8F0FE;\n",
              "      border: none;\n",
              "      border-radius: 50%;\n",
              "      cursor: pointer;\n",
              "      display: none;\n",
              "      fill: #1967D2;\n",
              "      height: 32px;\n",
              "      padding: 0 0 0 0;\n",
              "      width: 32px;\n",
              "    }\n",
              "\n",
              "    .colab-df-convert:hover {\n",
              "      background-color: #E2EBFA;\n",
              "      box-shadow: 0px 1px 2px rgba(60, 64, 67, 0.3), 0px 1px 3px 1px rgba(60, 64, 67, 0.15);\n",
              "      fill: #174EA6;\n",
              "    }\n",
              "\n",
              "    .colab-df-buttons div {\n",
              "      margin-bottom: 4px;\n",
              "    }\n",
              "\n",
              "    [theme=dark] .colab-df-convert {\n",
              "      background-color: #3B4455;\n",
              "      fill: #D2E3FC;\n",
              "    }\n",
              "\n",
              "    [theme=dark] .colab-df-convert:hover {\n",
              "      background-color: #434B5C;\n",
              "      box-shadow: 0px 1px 3px 1px rgba(0, 0, 0, 0.15);\n",
              "      filter: drop-shadow(0px 1px 2px rgba(0, 0, 0, 0.3));\n",
              "      fill: #FFFFFF;\n",
              "    }\n",
              "  </style>\n",
              "\n",
              "    <script>\n",
              "      const buttonEl =\n",
              "        document.querySelector('#df-69ff5a8f-fc8f-48a8-8954-d46c84b4cb04 button.colab-df-convert');\n",
              "      buttonEl.style.display =\n",
              "        google.colab.kernel.accessAllowed ? 'block' : 'none';\n",
              "\n",
              "      async function convertToInteractive(key) {\n",
              "        const element = document.querySelector('#df-69ff5a8f-fc8f-48a8-8954-d46c84b4cb04');\n",
              "        const dataTable =\n",
              "          await google.colab.kernel.invokeFunction('convertToInteractive',\n",
              "                                                    [key], {});\n",
              "        if (!dataTable) return;\n",
              "\n",
              "        const docLinkHtml = 'Like what you see? Visit the ' +\n",
              "          '<a target=\"_blank\" href=https://colab.research.google.com/notebooks/data_table.ipynb>data table notebook</a>'\n",
              "          + ' to learn more about interactive tables.';\n",
              "        element.innerHTML = '';\n",
              "        dataTable['output_type'] = 'display_data';\n",
              "        await google.colab.output.renderOutput(dataTable, element);\n",
              "        const docLink = document.createElement('div');\n",
              "        docLink.innerHTML = docLinkHtml;\n",
              "        element.appendChild(docLink);\n",
              "      }\n",
              "    </script>\n",
              "  </div>\n",
              "\n",
              "\n",
              "    <div id=\"df-a7e9e44a-6e1a-4b58-8c88-90226ff745ef\">\n",
              "      <button class=\"colab-df-quickchart\" onclick=\"quickchart('df-a7e9e44a-6e1a-4b58-8c88-90226ff745ef')\"\n",
              "                title=\"Suggest charts\"\n",
              "                style=\"display:none;\">\n",
              "\n",
              "<svg xmlns=\"http://www.w3.org/2000/svg\" height=\"24px\"viewBox=\"0 0 24 24\"\n",
              "     width=\"24px\">\n",
              "    <g>\n",
              "        <path d=\"M19 3H5c-1.1 0-2 .9-2 2v14c0 1.1.9 2 2 2h14c1.1 0 2-.9 2-2V5c0-1.1-.9-2-2-2zM9 17H7v-7h2v7zm4 0h-2V7h2v10zm4 0h-2v-4h2v4z\"/>\n",
              "    </g>\n",
              "</svg>\n",
              "      </button>\n",
              "\n",
              "<style>\n",
              "  .colab-df-quickchart {\n",
              "      --bg-color: #E8F0FE;\n",
              "      --fill-color: #1967D2;\n",
              "      --hover-bg-color: #E2EBFA;\n",
              "      --hover-fill-color: #174EA6;\n",
              "      --disabled-fill-color: #AAA;\n",
              "      --disabled-bg-color: #DDD;\n",
              "  }\n",
              "\n",
              "  [theme=dark] .colab-df-quickchart {\n",
              "      --bg-color: #3B4455;\n",
              "      --fill-color: #D2E3FC;\n",
              "      --hover-bg-color: #434B5C;\n",
              "      --hover-fill-color: #FFFFFF;\n",
              "      --disabled-bg-color: #3B4455;\n",
              "      --disabled-fill-color: #666;\n",
              "  }\n",
              "\n",
              "  .colab-df-quickchart {\n",
              "    background-color: var(--bg-color);\n",
              "    border: none;\n",
              "    border-radius: 50%;\n",
              "    cursor: pointer;\n",
              "    display: none;\n",
              "    fill: var(--fill-color);\n",
              "    height: 32px;\n",
              "    padding: 0;\n",
              "    width: 32px;\n",
              "  }\n",
              "\n",
              "  .colab-df-quickchart:hover {\n",
              "    background-color: var(--hover-bg-color);\n",
              "    box-shadow: 0 1px 2px rgba(60, 64, 67, 0.3), 0 1px 3px 1px rgba(60, 64, 67, 0.15);\n",
              "    fill: var(--button-hover-fill-color);\n",
              "  }\n",
              "\n",
              "  .colab-df-quickchart-complete:disabled,\n",
              "  .colab-df-quickchart-complete:disabled:hover {\n",
              "    background-color: var(--disabled-bg-color);\n",
              "    fill: var(--disabled-fill-color);\n",
              "    box-shadow: none;\n",
              "  }\n",
              "\n",
              "  .colab-df-spinner {\n",
              "    border: 2px solid var(--fill-color);\n",
              "    border-color: transparent;\n",
              "    border-bottom-color: var(--fill-color);\n",
              "    animation:\n",
              "      spin 1s steps(1) infinite;\n",
              "  }\n",
              "\n",
              "  @keyframes spin {\n",
              "    0% {\n",
              "      border-color: transparent;\n",
              "      border-bottom-color: var(--fill-color);\n",
              "      border-left-color: var(--fill-color);\n",
              "    }\n",
              "    20% {\n",
              "      border-color: transparent;\n",
              "      border-left-color: var(--fill-color);\n",
              "      border-top-color: var(--fill-color);\n",
              "    }\n",
              "    30% {\n",
              "      border-color: transparent;\n",
              "      border-left-color: var(--fill-color);\n",
              "      border-top-color: var(--fill-color);\n",
              "      border-right-color: var(--fill-color);\n",
              "    }\n",
              "    40% {\n",
              "      border-color: transparent;\n",
              "      border-right-color: var(--fill-color);\n",
              "      border-top-color: var(--fill-color);\n",
              "    }\n",
              "    60% {\n",
              "      border-color: transparent;\n",
              "      border-right-color: var(--fill-color);\n",
              "    }\n",
              "    80% {\n",
              "      border-color: transparent;\n",
              "      border-right-color: var(--fill-color);\n",
              "      border-bottom-color: var(--fill-color);\n",
              "    }\n",
              "    90% {\n",
              "      border-color: transparent;\n",
              "      border-bottom-color: var(--fill-color);\n",
              "    }\n",
              "  }\n",
              "</style>\n",
              "\n",
              "      <script>\n",
              "        async function quickchart(key) {\n",
              "          const quickchartButtonEl =\n",
              "            document.querySelector('#' + key + ' button');\n",
              "          quickchartButtonEl.disabled = true;  // To prevent multiple clicks.\n",
              "          quickchartButtonEl.classList.add('colab-df-spinner');\n",
              "          try {\n",
              "            const charts = await google.colab.kernel.invokeFunction(\n",
              "                'suggestCharts', [key], {});\n",
              "          } catch (error) {\n",
              "            console.error('Error during call to suggestCharts:', error);\n",
              "          }\n",
              "          quickchartButtonEl.classList.remove('colab-df-spinner');\n",
              "          quickchartButtonEl.classList.add('colab-df-quickchart-complete');\n",
              "        }\n",
              "        (() => {\n",
              "          let quickchartButtonEl =\n",
              "            document.querySelector('#df-a7e9e44a-6e1a-4b58-8c88-90226ff745ef button');\n",
              "          quickchartButtonEl.style.display =\n",
              "            google.colab.kernel.accessAllowed ? 'block' : 'none';\n",
              "        })();\n",
              "      </script>\n",
              "    </div>\n",
              "\n",
              "    </div>\n",
              "  </div>\n"
            ],
            "application/vnd.google.colaboratory.intrinsic+json": {
              "type": "dataframe",
              "variable_name": "df",
              "summary": "{\n  \"name\": \"df\",\n  \"rows\": 150,\n  \"fields\": [\n    {\n      \"column\": \"sepal length (cm)\",\n      \"properties\": {\n        \"dtype\": \"number\",\n        \"std\": 0.8280661279778629,\n        \"min\": 4.3,\n        \"max\": 7.9,\n        \"num_unique_values\": 35,\n        \"samples\": [\n          6.2,\n          4.5,\n          5.6\n        ],\n        \"semantic_type\": \"\",\n        \"description\": \"\"\n      }\n    },\n    {\n      \"column\": \"sepal width (cm)\",\n      \"properties\": {\n        \"dtype\": \"number\",\n        \"std\": 0.435866284936698,\n        \"min\": 2.0,\n        \"max\": 4.4,\n        \"num_unique_values\": 23,\n        \"samples\": [\n          2.3,\n          4.0,\n          3.5\n        ],\n        \"semantic_type\": \"\",\n        \"description\": \"\"\n      }\n    },\n    {\n      \"column\": \"petal length (cm)\",\n      \"properties\": {\n        \"dtype\": \"number\",\n        \"std\": 1.7652982332594667,\n        \"min\": 1.0,\n        \"max\": 6.9,\n        \"num_unique_values\": 43,\n        \"samples\": [\n          6.7,\n          3.8,\n          3.7\n        ],\n        \"semantic_type\": \"\",\n        \"description\": \"\"\n      }\n    },\n    {\n      \"column\": \"petal width (cm)\",\n      \"properties\": {\n        \"dtype\": \"number\",\n        \"std\": 0.7622376689603465,\n        \"min\": 0.1,\n        \"max\": 2.5,\n        \"num_unique_values\": 22,\n        \"samples\": [\n          0.2,\n          1.2,\n          1.3\n        ],\n        \"semantic_type\": \"\",\n        \"description\": \"\"\n      }\n    },\n    {\n      \"column\": \"species\",\n      \"properties\": {\n        \"dtype\": \"number\",\n        \"std\": 0,\n        \"min\": 0,\n        \"max\": 2,\n        \"num_unique_values\": 3,\n        \"samples\": [\n          0,\n          1,\n          2\n        ],\n        \"semantic_type\": \"\",\n        \"description\": \"\"\n      }\n    }\n  ]\n}"
            }
          },
          "metadata": {},
          "execution_count": 64
        }
      ]
    },
    {
      "cell_type": "markdown",
      "source": [
        "This step checks if the dataset contains any missing values and then removes the species column, keeping only the feature data needed for clustering.\n"
      ],
      "metadata": {
        "id": "LOMZifT1qpZf"
      }
    },
    {
      "cell_type": "code",
      "source": [
        "# Check for missing values\n",
        "print(\"Missing values:\\n\", df.isnull().sum())\n",
        "\n",
        "# Drop species column\n",
        "X = df.drop('species', axis=1)\n"
      ],
      "metadata": {
        "colab": {
          "base_uri": "https://localhost:8080/"
        },
        "id": "nEeh-n1wiGcm",
        "outputId": "b23a88f6-9f3a-4789-918c-c6cb2512b841"
      },
      "execution_count": 65,
      "outputs": [
        {
          "output_type": "stream",
          "name": "stdout",
          "text": [
            "Missing values:\n",
            " sepal length (cm)    0\n",
            "sepal width (cm)     0\n",
            "petal length (cm)    0\n",
            "petal width (cm)     0\n",
            "species              0\n",
            "dtype: int64\n"
          ]
        }
      ]
    },
    {
      "cell_type": "markdown",
      "source": [
        "This part standardizes the feature values so all features have equal weight during clustering.\n",
        "`StandardScaler()` transforms data to have a mean of 0 and standard deviation of 1, making the clustering results more accurate and balanced.\n"
      ],
      "metadata": {
        "id": "18VPvbStqt91"
      }
    },
    {
      "cell_type": "code",
      "source": [
        "# Standardize features\n",
        "scaler = StandardScaler()\n",
        "X_scaled = scaler.fit_transform(X)\n",
        "\n",
        "print(\"Data after scaling:\\n\", X_scaled[:5])"
      ],
      "metadata": {
        "colab": {
          "base_uri": "https://localhost:8080/"
        },
        "id": "xyligWoqiWcb",
        "outputId": "424a2a2b-95c7-4447-bc5f-9133a9e12165"
      },
      "execution_count": 66,
      "outputs": [
        {
          "output_type": "stream",
          "name": "stdout",
          "text": [
            "Data after scaling:\n",
            " [[-0.90068117  1.01900435 -1.34022653 -1.3154443 ]\n",
            " [-1.14301691 -0.13197948 -1.34022653 -1.3154443 ]\n",
            " [-1.38535265  0.32841405 -1.39706395 -1.3154443 ]\n",
            " [-1.50652052  0.09821729 -1.2833891  -1.3154443 ]\n",
            " [-1.02184904  1.24920112 -1.34022653 -1.3154443 ]]\n"
          ]
        }
      ]
    },
    {
      "cell_type": "markdown",
      "source": [
        "K-Means Clustering is one of the most popular unsupervised machine learning algorithms used to group similar data points into clusters.\n",
        "It works by dividing the dataset into k predefined clusters, where each data point belongs to the cluster with the nearest mean (centroid).\n",
        "\n",
        "The algorithm follows these main steps:\n",
        "\n",
        "Initialization: Select k random centroids.\n",
        "\n",
        "Assignment: Assign each data point to the nearest centroid based on distance (usually Euclidean distance).\n",
        "\n",
        "Update: Recalculate centroids as the mean position of all data points in each cluster.\n",
        "\n",
        "Repeat: Continue the assignment and update steps until centroids stop moving or the change is minimal.\n",
        "\n",
        "K-Means tries to minimize the within-cluster sum of squared distances (WCSS), which means the data points inside a cluster should be as close as possible to their centroid.\n",
        "It works best when clusters are spherical and well-separated.\n",
        "\n",
        "\n"
      ],
      "metadata": {
        "id": "Ys883cWbq-Z9"
      }
    },
    {
      "cell_type": "markdown",
      "source": [
        "The code applies K-Means clustering with k=2 clusters on the scaled Iris dataset.\n",
        "After training, it evaluates the clustering performance using:\n",
        "\n",
        "* Silhouette Score: Measures how well each point fits in its cluster (higher is better).\n",
        "\n",
        "* Calinski–Harabasz Index: Evaluates cluster compactness and separation (higher is better).\n",
        "\n",
        "* Davies–Bouldin Index: Measures the similarity between clusters (lower is better)."
      ],
      "metadata": {
        "id": "vlkXFEW4rAoq"
      }
    },
    {
      "cell_type": "code",
      "source": [
        "# K-Means Clustering\n",
        "print(\"Training K-Means model.\")\n",
        "kmeans = KMeans(n_clusters=2, random_state=42)\n",
        "kmeans_labels = kmeans.fit_predict(X_scaled)\n",
        "print(\"Model training complete.\\n\")\n",
        "\n",
        "# Evaluation Metrics\n",
        "from sklearn.metrics import silhouette_score, calinski_harabasz_score, davies_bouldin_score\n",
        "sil_kmeans = silhouette_score(X_scaled, kmeans_labels)\n",
        "ch_kmeans = calinski_harabasz_score(X_scaled, kmeans_labels)\n",
        "db_kmeans = davies_bouldin_score(X_scaled, kmeans_labels)\n",
        "\n",
        "print(\"Model Evaluation (K-Means Clustering)\")\n",
        "print(\"Silhouette Score: \", sil_kmeans)\n",
        "print(\"Calinski–Harabasz Index: \", ch_kmeans)\n",
        "print(\"Davies–Bouldin Index:    \", db_kmeans, \"\\n\")"
      ],
      "metadata": {
        "colab": {
          "base_uri": "https://localhost:8080/"
        },
        "id": "GUhJUbAuiejH",
        "outputId": "cd69e502-3227-4385-ee6d-19d929de1d1d"
      },
      "execution_count": 67,
      "outputs": [
        {
          "output_type": "stream",
          "name": "stdout",
          "text": [
            "Training K-Means model.\n",
            "Model training complete.\n",
            "\n",
            "Model Evaluation (K-Means Clustering)\n",
            "Silhouette Score:  0.5817500491982808\n",
            "Calinski–Harabasz Index:  251.34933946458108\n",
            "Davies–Bouldin Index:     0.5933126905762435 \n",
            "\n"
          ]
        }
      ]
    },
    {
      "cell_type": "markdown",
      "source": [
        "The K-Means model was trained successfully with k = 2 clusters.\n",
        "The evaluation metrics indicate good cluster formation and separation:\n",
        "\n",
        "* Silhouette Score (0.58): Shows that the data points are well matched within their own clusters and fairly separated from others.\n",
        "\n",
        "* Calinski–Harabasz Index (251.34): A high value, indicating that clusters are dense and well-separated.\n",
        "\n",
        "* Davies–Bouldin Index (0.59): A low value, meaning less overlap between clusters."
      ],
      "metadata": {
        "id": "vxKB8hXurKCw"
      }
    },
    {
      "cell_type": "code",
      "source": [
        "# Visualization\n",
        "plt.figure(figsize=(6, 5))\n",
        "sns.scatterplot(x=X_scaled[:, 0], y=X_scaled[:, 1],\n",
        "                hue=kmeans_labels, palette='viridis', s=30)\n",
        "plt.scatter(kmeans.cluster_centers_[:, 0], kmeans.cluster_centers_[:, 1],\n",
        "            c='red', marker='X', s=150, label='Centroids')\n",
        "plt.title(\"K-Means Clustering Visualization\")\n",
        "plt.xlabel(\"Feature 1 (Sepal Length)\")\n",
        "plt.ylabel(\"Feature 2 (Sepal Width)\")\n",
        "plt.legend(title='Cluster', loc='best')\n",
        "plt.show()"
      ],
      "metadata": {
        "colab": {
          "base_uri": "https://localhost:8080/",
          "height": 487
        },
        "id": "VSLTU3JLim-o",
        "outputId": "27bb1e30-4813-4de7-a3ac-4eafe8c38adb"
      },
      "execution_count": 68,
      "outputs": [
        {
          "output_type": "display_data",
          "data": {
            "text/plain": [
              "<Figure size 600x500 with 1 Axes>"
            ],
            "image/png": "[encoded data removed]"
          },
          "metadata": {}
        }
      ]
    },
    {
      "cell_type": "markdown",
      "source": [
        "After clustering, it is useful to analyze the formed clusters and their characteristics.\n",
        "Each cluster center (also called a centroid) represents the average position of all data points within that cluster.\n",
        "By studying these centers, we can understand which features contribute most to separating the clusters."
      ],
      "metadata": {
        "id": "b2WFKsDorWwH"
      }
    },
    {
      "cell_type": "markdown",
      "source": [
        "This part adds the assigned cluster labels to the dataset for reference.\n",
        "It then prints the cluster centers (in scaled form) to show the average feature values of each group.\n",
        "Finally, it displays a sample of data points with their corresponding cluster numbers to observe how the Iris samples were grouped."
      ],
      "metadata": {
        "id": "nArASbT1rXn6"
      }
    },
    {
      "cell_type": "code",
      "source": [
        "# Cluster Summary\n",
        "X['Cluster'] = kmeans_labels\n",
        "print(\"Cluster Centers (in scaled units):\")\n",
        "print(kmeans.cluster_centers_)\n",
        "print(\"\\nSample of clustered data:\\n\")\n",
        "X.head()"
      ],
      "metadata": {
        "colab": {
          "base_uri": "https://localhost:8080/",
          "height": 310
        },
        "id": "RxfPfrrIjIDE",
        "outputId": "fe54b27a-515e-4703-9dcc-08e2caeb8a38"
      },
      "execution_count": 69,
      "outputs": [
        {
          "output_type": "stream",
          "name": "stdout",
          "text": [
            "Cluster Centers (in scaled units):\n",
            "[[ 0.50728948 -0.42663134  0.65249366  0.62744675]\n",
            " [-1.01457897  0.85326268 -1.30498732 -1.25489349]]\n",
            "\n",
            "Sample of clustered data:\n",
            "\n"
          ]
        },
        {
          "output_type": "execute_result",
          "data": {
            "text/plain": [
              "   sepal length (cm)  sepal width (cm)  petal length (cm)  petal width (cm)  \\\n",
              "0                5.1               3.5                1.4               0.2   \n",
              "1                4.9               3.0                1.4               0.2   \n",
              "2                4.7               3.2                1.3               0.2   \n",
              "3                4.6               3.1                1.5               0.2   \n",
              "4                5.0               3.6                1.4               0.2   \n",
              "\n",
              "   Cluster  \n",
              "0        1  \n",
              "1        1  \n",
              "2        1  \n",
              "3        1  \n",
              "4        1  "
            ],
            "text/html": [
              "\n",
              "  <div id=\"df-e56b72e9-4136-483c-b12c-07740b447fb1\" class=\"colab-df-container\">\n",
              "    <div>\n",
              "<style scoped>\n",
              "    .dataframe tbody tr th:only-of-type {\n",
              "        vertical-align: middle;\n",
              "    }\n",
              "\n",
              "    .dataframe tbody tr th {\n",
              "        vertical-align: top;\n",
              "    }\n",
              "\n",
              "    .dataframe thead th {\n",
              "        text-align: right;\n",
              "    }\n",
              "</style>\n",
              "<table border=\"1\" class=\"dataframe\">\n",
              "  <thead>\n",
              "    <tr style=\"text-align: right;\">\n",
              "      <th></th>\n",
              "      <th>sepal length (cm)</th>\n",
              "      <th>sepal width (cm)</th>\n",
              "      <th>petal length (cm)</th>\n",
              "      <th>petal width (cm)</th>\n",
              "      <th>Cluster</th>\n",
              "    </tr>\n",
              "  </thead>\n",
              "  <tbody>\n",
              "    <tr>\n",
              "      <th>0</th>\n",
              "      <td>5.1</td>\n",
              "      <td>3.5</td>\n",
              "      <td>1.4</td>\n",
              "      <td>0.2</td>\n",
              "      <td>1</td>\n",
              "    </tr>\n",
              "    <tr>\n",
              "      <th>1</th>\n",
              "      <td>4.9</td>\n",
              "      <td>3.0</td>\n",
              "      <td>1.4</td>\n",
              "      <td>0.2</td>\n",
              "      <td>1</td>\n",
              "    </tr>\n",
              "    <tr>\n",
              "      <th>2</th>\n",
              "      <td>4.7</td>\n",
              "      <td>3.2</td>\n",
              "      <td>1.3</td>\n",
              "      <td>0.2</td>\n",
              "      <td>1</td>\n",
              "    </tr>\n",
              "    <tr>\n",
              "      <th>3</th>\n",
              "      <td>4.6</td>\n",
              "      <td>3.1</td>\n",
              "      <td>1.5</td>\n",
              "      <td>0.2</td>\n",
              "      <td>1</td>\n",
              "    </tr>\n",
              "    <tr>\n",
              "      <th>4</th>\n",
              "      <td>5.0</td>\n",
              "      <td>3.6</td>\n",
              "      <td>1.4</td>\n",
              "      <td>0.2</td>\n",
              "      <td>1</td>\n",
              "    </tr>\n",
              "  </tbody>\n",
              "</table>\n",
              "</div>\n",
              "    <div class=\"colab-df-buttons\">\n",
              "\n",
              "  <div class=\"colab-df-container\">\n",
              "    <button class=\"colab-df-convert\" onclick=\"convertToInteractive('df-e56b72e9-4136-483c-b12c-07740b447fb1')\"\n",
              "            title=\"Convert this dataframe to an interactive table.\"\n",
              "            style=\"display:none;\">\n",
              "\n",
              "  <svg xmlns=\"http://www.w3.org/2000/svg\" height=\"24px\" viewBox=\"0 -960 960 960\">\n",
              "    <path d=\"M120-120v-720h720v720H120Zm60-500h600v-160H180v160Zm220 220h160v-160H400v160Zm0 220h160v-160H400v160ZM180-400h160v-160H180v160Zm440 0h160v-160H620v160ZM180-180h160v-160H180v160Zm440 0h160v-160H620v160Z\"/>\n",
              "  </svg>\n",
              "    </button>\n",
              "\n",
              "  <style>\n",
              "    .colab-df-container {\n",
              "      display:flex;\n",
              "      gap: 12px;\n",
              "    }\n",
              "\n",
              "    .colab-df-convert {\n",
              "      background-color: #E8F0FE;\n",
              "      border: none;\n",
              "      border-radius: 50%;\n",
              "      cursor: pointer;\n",
              "      display: none;\n",
              "      fill: #1967D2;\n",
              "      height: 32px;\n",
              "      padding: 0 0 0 0;\n",
              "      width: 32px;\n",
              "    }\n",
              "\n",
              "    .colab-df-convert:hover {\n",
              "      background-color: #E2EBFA;\n",
              "      box-shadow: 0px 1px 2px rgba(60, 64, 67, 0.3), 0px 1px 3px 1px rgba(60, 64, 67, 0.15);\n",
              "      fill: #174EA6;\n",
              "    }\n",
              "\n",
              "    .colab-df-buttons div {\n",
              "      margin-bottom: 4px;\n",
              "    }\n",
              "\n",
              "    [theme=dark] .colab-df-convert {\n",
              "      background-color: #3B4455;\n",
              "      fill: #D2E3FC;\n",
              "    }\n",
              "\n",
              "    [theme=dark] .colab-df-convert:hover {\n",
              "      background-color: #434B5C;\n",
              "      box-shadow: 0px 1px 3px 1px rgba(0, 0, 0, 0.15);\n",
              "      filter: drop-shadow(0px 1px 2px rgba(0, 0, 0, 0.3));\n",
              "      fill: #FFFFFF;\n",
              "    }\n",
              "  </style>\n",
              "\n",
              "    <script>\n",
              "      const buttonEl =\n",
              "        document.querySelector('#df-e56b72e9-4136-483c-b12c-07740b447fb1 button.colab-df-convert');\n",
              "      buttonEl.style.display =\n",
              "        google.colab.kernel.accessAllowed ? 'block' : 'none';\n",
              "\n",
              "      async function convertToInteractive(key) {\n",
              "        const element = document.querySelector('#df-e56b72e9-4136-483c-b12c-07740b447fb1');\n",
              "        const dataTable =\n",
              "          await google.colab.kernel.invokeFunction('convertToInteractive',\n",
              "                                                    [key], {});\n",
              "        if (!dataTable) return;\n",
              "\n",
              "        const docLinkHtml = 'Like what you see? Visit the ' +\n",
              "          '<a target=\"_blank\" href=https://colab.research.google.com/notebooks/data_table.ipynb>data table notebook</a>'\n",
              "          + ' to learn more about interactive tables.';\n",
              "        element.innerHTML = '';\n",
              "        dataTable['output_type'] = 'display_data';\n",
              "        await google.colab.output.renderOutput(dataTable, element);\n",
              "        const docLink = document.createElement('div');\n",
              "        docLink.innerHTML = docLinkHtml;\n",
              "        element.appendChild(docLink);\n",
              "      }\n",
              "    </script>\n",
              "  </div>\n",
              "\n",
              "\n",
              "    <div id=\"df-2a150362-0be0-4592-9fe7-771f8409e1df\">\n",
              "      <button class=\"colab-df-quickchart\" onclick=\"quickchart('df-2a150362-0be0-4592-9fe7-771f8409e1df')\"\n",
              "                title=\"Suggest charts\"\n",
              "                style=\"display:none;\">\n",
              "\n",
              "<svg xmlns=\"http://www.w3.org/2000/svg\" height=\"24px\"viewBox=\"0 0 24 24\"\n",
              "     width=\"24px\">\n",
              "    <g>\n",
              "        <path d=\"M19 3H5c-1.1 0-2 .9-2 2v14c0 1.1.9 2 2 2h14c1.1 0 2-.9 2-2V5c0-1.1-.9-2-2-2zM9 17H7v-7h2v7zm4 0h-2V7h2v10zm4 0h-2v-4h2v4z\"/>\n",
              "    </g>\n",
              "</svg>\n",
              "      </button>\n",
              "\n",
              "<style>\n",
              "  .colab-df-quickchart {\n",
              "      --bg-color: #E8F0FE;\n",
              "      --fill-color: #1967D2;\n",
              "      --hover-bg-color: #E2EBFA;\n",
              "      --hover-fill-color: #174EA6;\n",
              "      --disabled-fill-color: #AAA;\n",
              "      --disabled-bg-color: #DDD;\n",
              "  }\n",
              "\n",
              "  [theme=dark] .colab-df-quickchart {\n",
              "      --bg-color: #3B4455;\n",
              "      --fill-color: #D2E3FC;\n",
              "      --hover-bg-color: #434B5C;\n",
              "      --hover-fill-color: #FFFFFF;\n",
              "      --disabled-bg-color: #3B4455;\n",
              "      --disabled-fill-color: #666;\n",
              "  }\n",
              "\n",
              "  .colab-df-quickchart {\n",
              "    background-color: var(--bg-color);\n",
              "    border: none;\n",
              "    border-radius: 50%;\n",
              "    cursor: pointer;\n",
              "    display: none;\n",
              "    fill: var(--fill-color);\n",
              "    height: 32px;\n",
              "    padding: 0;\n",
              "    width: 32px;\n",
              "  }\n",
              "\n",
              "  .colab-df-quickchart:hover {\n",
              "    background-color: var(--hover-bg-color);\n",
              "    box-shadow: 0 1px 2px rgba(60, 64, 67, 0.3), 0 1px 3px 1px rgba(60, 64, 67, 0.15);\n",
              "    fill: var(--button-hover-fill-color);\n",
              "  }\n",
              "\n",
              "  .colab-df-quickchart-complete:disabled,\n",
              "  .colab-df-quickchart-complete:disabled:hover {\n",
              "    background-color: var(--disabled-bg-color);\n",
              "    fill: var(--disabled-fill-color);\n",
              "    box-shadow: none;\n",
              "  }\n",
              "\n",
              "  .colab-df-spinner {\n",
              "    border: 2px solid var(--fill-color);\n",
              "    border-color: transparent;\n",
              "    border-bottom-color: var(--fill-color);\n",
              "    animation:\n",
              "      spin 1s steps(1) infinite;\n",
              "  }\n",
              "\n",
              "  @keyframes spin {\n",
              "    0% {\n",
              "      border-color: transparent;\n",
              "      border-bottom-color: var(--fill-color);\n",
              "      border-left-color: var(--fill-color);\n",
              "    }\n",
              "    20% {\n",
              "      border-color: transparent;\n",
              "      border-left-color: var(--fill-color);\n",
              "      border-top-color: var(--fill-color);\n",
              "    }\n",
              "    30% {\n",
              "      border-color: transparent;\n",
              "      border-left-color: var(--fill-color);\n",
              "      border-top-color: var(--fill-color);\n",
              "      border-right-color: var(--fill-color);\n",
              "    }\n",
              "    40% {\n",
              "      border-color: transparent;\n",
              "      border-right-color: var(--fill-color);\n",
              "      border-top-color: var(--fill-color);\n",
              "    }\n",
              "    60% {\n",
              "      border-color: transparent;\n",
              "      border-right-color: var(--fill-color);\n",
              "    }\n",
              "    80% {\n",
              "      border-color: transparent;\n",
              "      border-right-color: var(--fill-color);\n",
              "      border-bottom-color: var(--fill-color);\n",
              "    }\n",
              "    90% {\n",
              "      border-color: transparent;\n",
              "      border-bottom-color: var(--fill-color);\n",
              "    }\n",
              "  }\n",
              "</style>\n",
              "\n",
              "      <script>\n",
              "        async function quickchart(key) {\n",
              "          const quickchartButtonEl =\n",
              "            document.querySelector('#' + key + ' button');\n",
              "          quickchartButtonEl.disabled = true;  // To prevent multiple clicks.\n",
              "          quickchartButtonEl.classList.add('colab-df-spinner');\n",
              "          try {\n",
              "            const charts = await google.colab.kernel.invokeFunction(\n",
              "                'suggestCharts', [key], {});\n",
              "          } catch (error) {\n",
              "            console.error('Error during call to suggestCharts:', error);\n",
              "          }\n",
              "          quickchartButtonEl.classList.remove('colab-df-spinner');\n",
              "          quickchartButtonEl.classList.add('colab-df-quickchart-complete');\n",
              "        }\n",
              "        (() => {\n",
              "          let quickchartButtonEl =\n",
              "            document.querySelector('#df-2a150362-0be0-4592-9fe7-771f8409e1df button');\n",
              "          quickchartButtonEl.style.display =\n",
              "            google.colab.kernel.accessAllowed ? 'block' : 'none';\n",
              "        })();\n",
              "      </script>\n",
              "    </div>\n",
              "\n",
              "    </div>\n",
              "  </div>\n"
            ],
            "application/vnd.google.colaboratory.intrinsic+json": {
              "type": "dataframe",
              "variable_name": "X",
              "summary": "{\n  \"name\": \"X\",\n  \"rows\": 150,\n  \"fields\": [\n    {\n      \"column\": \"sepal length (cm)\",\n      \"properties\": {\n        \"dtype\": \"number\",\n        \"std\": 0.8280661279778629,\n        \"min\": 4.3,\n        \"max\": 7.9,\n        \"num_unique_values\": 35,\n        \"samples\": [\n          6.2,\n          4.5,\n          5.6\n        ],\n        \"semantic_type\": \"\",\n        \"description\": \"\"\n      }\n    },\n    {\n      \"column\": \"sepal width (cm)\",\n      \"properties\": {\n        \"dtype\": \"number\",\n        \"std\": 0.435866284936698,\n        \"min\": 2.0,\n        \"max\": 4.4,\n        \"num_unique_values\": 23,\n        \"samples\": [\n          2.3,\n          4.0,\n          3.5\n        ],\n        \"semantic_type\": \"\",\n        \"description\": \"\"\n      }\n    },\n    {\n      \"column\": \"petal length (cm)\",\n      \"properties\": {\n        \"dtype\": \"number\",\n        \"std\": 1.7652982332594667,\n        \"min\": 1.0,\n        \"max\": 6.9,\n        \"num_unique_values\": 43,\n        \"samples\": [\n          6.7,\n          3.8,\n          3.7\n        ],\n        \"semantic_type\": \"\",\n        \"description\": \"\"\n      }\n    },\n    {\n      \"column\": \"petal width (cm)\",\n      \"properties\": {\n        \"dtype\": \"number\",\n        \"std\": 0.7622376689603465,\n        \"min\": 0.1,\n        \"max\": 2.5,\n        \"num_unique_values\": 22,\n        \"samples\": [\n          0.2,\n          1.2,\n          1.3\n        ],\n        \"semantic_type\": \"\",\n        \"description\": \"\"\n      }\n    },\n    {\n      \"column\": \"Cluster\",\n      \"properties\": {\n        \"dtype\": \"int32\",\n        \"num_unique_values\": 2,\n        \"samples\": [\n          0,\n          1\n        ],\n        \"semantic_type\": \"\",\n        \"description\": \"\"\n      }\n    }\n  ]\n}"
            }
          },
          "metadata": {},
          "execution_count": 69
        }
      ]
    },
    {
      "cell_type": "markdown",
      "source": [
        "## Conclusion\n",
        "\n",
        "In this assignment, the Iris dataset was used to classify different flower species using K-Means clustering.\n",
        "The data was cleaned, scaled, and then clustered into 2 groups (k = 2) based on the optimal value found using the Elbow Method and Silhouette Score.\n",
        "\n",
        "The K-Means model achieved:\n",
        "\n",
        "* Silhouette Score: 0.58\n",
        "\n",
        "* Calinski–Harabasz Index: 251.34\n",
        "\n",
        "* Davies–Bouldin Index: 0.59\n",
        "\n",
        "These results show that the clusters formed are fairly well-separated and compact, meaning K-Means successfully grouped the data points with good accuracy.\n",
        "Thus, the experiment provided a clear understanding of how unsupervised learning techniques like K-Means can reveal hidden patterns in datasets without predefined labels."
      ],
      "metadata": {
        "id": "Xfyx0Kkqw-li"
      }
    },
    {
      "cell_type": "markdown",
      "source": [
        "## Self Learning"
      ],
      "metadata": {
        "id": "Lnx0I4AeraLm"
      }
    },
    {
      "cell_type": "markdown",
      "source": [
        "Elbow Method\n",
        "The Elbow Method is used to find the optimal number of clusters (k) in K-Means clustering.\n",
        "\n",
        "1. It works by plotting the inertia (within-cluster sum of squared distances) against different values of k.\n",
        "\n",
        "2. Inertia measures how close the data points are to their cluster center.\n",
        "\n",
        "  * Lower inertia = better cluster fit.\n",
        "\n",
        "3. As we increase k, inertia decreases — but after a point, the rate of decrease slows down.\n",
        "\n",
        "4. The point where the graph bends like an “elbow” is considered the best number of clusters, as adding more clusters after this gives little improvement."
      ],
      "metadata": {
        "id": "bSs8Z74Nrnmw"
      }
    },
    {
      "cell_type": "code",
      "source": [
        "# Elbow Method for K-Means\n",
        "inertia = []\n",
        "for k in range(1, 11):\n",
        "    kmeans = KMeans(n_clusters=k, random_state=42)\n",
        "    kmeans.fit(X_scaled)\n",
        "    inertia.append(kmeans.inertia_)\n",
        "\n",
        "plt.figure(figsize=(8, 5))\n",
        "plt.plot(range(1, 11), inertia, marker='o')\n",
        "plt.title(\"Elbow Method for Optimal K\")\n",
        "plt.xlabel(\"Number of Clusters (k)\")\n",
        "plt.ylabel(\"Inertia\")\n",
        "plt.grid(True)\n",
        "plt.show()"
      ],
      "metadata": {
        "colab": {
          "base_uri": "https://localhost:8080/",
          "height": 487
        },
        "id": "mcpGYeSXnKGw",
        "outputId": "8bdf0716-470a-49ce-b5b1-821cf0f64053"
      },
      "execution_count": 70,
      "outputs": [
        {
          "output_type": "display_data",
          "data": {
            "text/plain": [
              "<Figure size 800x500 with 1 Axes>"
            ],
            "image/png": "[encoded data removed]"
          },
          "metadata": {}
        }
      ]
    },
    {
      "cell_type": "markdown",
      "source": [
        "## Silhouette Score\n",
        "\n",
        "1. The Silhouette Score measures how well each data point fits into its assigned cluster compared to other clusters.\n",
        "\n",
        "2. It ranges from -1 to +1:\n",
        "\n",
        "  * +1 → well-clustered\n",
        "\n",
        "  * 0 → overlapping clusters\n",
        "\n",
        "  * -1 → wrongly assigned cluster\n",
        "\n",
        "3. A higher score means better-defined clusters.\n",
        "\n",
        "4. This method helps in selecting the best number of clusters (k) more accurately than the elbow method."
      ],
      "metadata": {
        "id": "YXIlVfnkr9Ul"
      }
    },
    {
      "cell_type": "code",
      "source": [
        "# Best K based on Silhouette Score\n",
        "sil_scores = []\n",
        "for k in range(2, 11):\n",
        "    kmeans = KMeans(n_clusters=k, random_state=42)\n",
        "    labels = kmeans.fit_predict(X_scaled)\n",
        "    sil = silhouette_score(X_scaled, labels)\n",
        "    sil_scores.append(sil)\n",
        "\n",
        "plt.figure(figsize=(8, 5))\n",
        "plt.plot(range(2, 11), sil_scores, marker='o', color='purple')\n",
        "plt.title(\"Silhouette Score for Different k values\")\n",
        "plt.xlabel(\"Number of Clusters (k)\")\n",
        "plt.ylabel(\"Silhouette Score\")\n",
        "plt.show()\n",
        "\n",
        "best_k = range(2, 11)[sil_scores.index(max(sil_scores))]\n",
        "print(\"\\nBest k based on Silhouette Score:\", best_k)"
      ],
      "metadata": {
        "colab": {
          "base_uri": "https://localhost:8080/",
          "height": 522
        },
        "id": "laWycEvqk0NZ",
        "outputId": "0e254beb-9c9f-407b-a7e2-fb3a616288c9"
      },
      "execution_count": 84,
      "outputs": [
        {
          "output_type": "display_data",
          "data": {
            "text/plain": [
              "<Figure size 800x500 with 1 Axes>"
            ],
            "image/png": "[encoded data removed]"
          },
          "metadata": {}
        },
        {
          "output_type": "stream",
          "name": "stdout",
          "text": [
            "\n",
            "Best k based on Silhouette Score: 2\n"
          ]
        }
      ]
    },
    {
      "cell_type": "markdown",
      "source": [
        "Best k based on Silhouette Score: 2\n",
        "  * The dataset forms 2 well-separated clusters.\n",
        "  * This means grouping into 2 clusters gives the most meaningful division of data."
      ],
      "metadata": {
        "id": "igNrCOYasOCA"
      }
    },
    {
      "cell_type": "markdown",
      "source": [
        "## Hierarchical Clustering\n",
        "\n",
        "1. Hierarchical Clustering is a method of building clusters step by step.\n",
        "\n",
        "2. It groups data points based on similarity and forms a tree-like structure (dendrogram).\n",
        "\n",
        "3. There are two main types:\n",
        "\n",
        "  * Agglomerative (bottom-up): each point starts as its own cluster, and similar clusters are merged.\n",
        "\n",
        "  * Divisive (top-down): all points start in one cluster and are split apart.\n",
        "\n",
        "4. The Ward linkage method is used here.\n",
        "\n",
        "  * It minimizes the variance within clusters when merging.\n",
        "\n",
        "  * This gives compact and balanced clusters."
      ],
      "metadata": {
        "id": "iWZyGABUviT3"
      }
    },
    {
      "cell_type": "code",
      "source": [
        "# Hierarchical Clustering (Ward Linkage)\n",
        "from scipy.cluster.hierarchy import linkage, dendrogram, fcluster\n",
        "print(\"\\nTraining Hierarchical Clustering model (Ward Linkage).\")\n",
        "linkage_ward = linkage(X_scaled, method='ward')\n",
        "print(\"Linkage matrix created. (Ward Linkage)\")\n",
        "\n",
        "# Form flat clusters\n",
        "labels_ward = fcluster(linkage_ward, 3, criterion='maxclust')\n",
        "print(\"Clusters formed from dendrogram.\\n\")\n",
        "\n",
        "# Evaluation\n",
        "sil_ward = silhouette_score(X_scaled, labels_ward)\n",
        "ch_ward = calinski_harabasz_score(X_scaled, labels_ward)\n",
        "db_ward = davies_bouldin_score(X_scaled, labels_ward)\n",
        "\n",
        "print(\"Model Evaluation (Hierarchical Clustering - Ward)\")\n",
        "print(\"Silhouette Score:\", sil_ward)\n",
        "print(\"Calinski–Harabasz Index:\", ch_ward)\n",
        "print(\"Davies–Bouldin Index:\", db_ward)"
      ],
      "metadata": {
        "colab": {
          "base_uri": "https://localhost:8080/"
        },
        "id": "LdJJPKzxlA2o",
        "outputId": "1d076465-1da2-4d6b-9a56-713c28defac3"
      },
      "execution_count": 72,
      "outputs": [
        {
          "output_type": "stream",
          "name": "stdout",
          "text": [
            "\n",
            "Training Hierarchical Clustering model (Ward Linkage).\n",
            "Linkage matrix created. (Ward Linkage)\n",
            "Clusters formed from dendrogram.\n",
            "\n",
            "Model Evaluation (Hierarchical Clustering - Ward)\n",
            "Silhouette Score: 0.4466890410285909\n",
            "Calinski–Harabasz Index: 222.71916382215363\n",
            "Davies–Bouldin Index: 0.8034665302876755\n"
          ]
        }
      ]
    },
    {
      "cell_type": "markdown",
      "source": [
        "Result Interpretation (Ward Linkage)\n",
        "\n",
        "  * Silhouette Score = 0.44 → Moderate cluster separation. Data points are grouped fairly well, but some overlap exists.\n",
        "\n",
        "  * Calinski–Harabasz Index = 222.71 → Good cluster compactness; clusters are reasonably dense and distinct.\n",
        "\n",
        "  * Davies–Bouldin Index = 0.80 → Low value indicates that clusters are not very similar, meaning good clustering performance."
      ],
      "metadata": {
        "id": "kaJ8uQmwv6Om"
      }
    },
    {
      "cell_type": "markdown",
      "source": [
        "A dendrogram is a tree-like diagram that shows how data points are grouped step by step in hierarchical clustering.\n",
        "It helps visualize the merging process and decide the optimal number of clusters by looking for the largest vertical gap (distance) before clusters merge."
      ],
      "metadata": {
        "id": "51NTMoqvwCQw"
      }
    },
    {
      "cell_type": "code",
      "source": [
        "# Dendrogram Visualization\n",
        "plt.figure(figsize=(10, 6))\n",
        "dendrogram(linkage_ward)\n",
        "plt.title(\"Hierarchical Clustering Dendrogram\")\n",
        "plt.xlabel(\"Data Points\")\n",
        "plt.ylabel(\"Distance\")\n",
        "plt.show()\n"
      ],
      "metadata": {
        "colab": {
          "base_uri": "https://localhost:8080/",
          "height": 564
        },
        "id": "I55ZiAKTla3s",
        "outputId": "b577ff9a-f585-465e-fe94-9b6795baac1a"
      },
      "execution_count": 73,
      "outputs": [
        {
          "output_type": "display_data",
          "data": {
            "text/plain": [
              "<Figure size 1000x600 with 1 Axes>"
            ],
            "image/png": "[encoded data removed]"
          },
          "metadata": {}
        }
      ]
    },
    {
      "cell_type": "code",
      "source": [
        "# Cluster Visualization\n",
        "plt.figure(figsize=(6, 5))\n",
        "sns.scatterplot(x=X_scaled[:, 0], y=X_scaled[:, 1],\n",
        "                hue=labels_ward, palette='plasma', s=30)\n",
        "plt.title(\"Hierarchical Clustering Visualization (Ward Linkage)\")\n",
        "plt.legend(title='Cluster', loc='best')\n",
        "plt.show()\n"
      ],
      "metadata": {
        "colab": {
          "base_uri": "https://localhost:8080/",
          "height": 468
        },
        "id": "O8AdkIYQlfq5",
        "outputId": "9bd84d88-c770-4cbc-f8fb-87400271ce78"
      },
      "execution_count": 74,
      "outputs": [
        {
          "output_type": "display_data",
          "data": {
            "text/plain": [
              "<Figure size 600x500 with 1 Axes>"
            ],
            "image/png": "[encoded data removed]"
          },
          "metadata": {}
        }
      ]
    },
    {
      "cell_type": "markdown",
      "source": [
        "## DBSCAN Clustering\n",
        "DBSCAN (Density-Based Spatial Clustering of Applications with Noise) is a clustering algorithm that groups data points based on density rather than distance.\n",
        "It can find clusters of arbitrary shapes and also identify noise or outliers (points that don’t belong to any cluster).\n",
        "\n",
        "Key Parameters:\n",
        "\n",
        "  * eps: Maximum distance between two samples to be considered as neighbors.\n",
        "\n",
        "  * min_samples: Minimum number of points needed to form a dense region (cluster).\n",
        "\n",
        "Advantages:\n",
        "\n",
        "  * No need to predefine the number of clusters (unlike K-Means).\n",
        "\n",
        "  * Detects outliers automatically."
      ],
      "metadata": {
        "id": "GW4OR5j_wIty"
      }
    },
    {
      "cell_type": "code",
      "source": [
        "# DBSCAN Clustering\n",
        "from sklearn.cluster import DBSCAN\n",
        "print(\"Training DBSCAN Clustering.\")\n",
        "dbscan = DBSCAN(eps=0.7, min_samples=6)\n",
        "labels_dbscan = dbscan.fit_predict(X_scaled)\n",
        "\n",
        "# Unique labels\n",
        "unique_labels = np.unique(labels_dbscan)\n",
        "print(\"Unique cluster labels:\", unique_labels)\n",
        "\n",
        "# Remove noise points\n",
        "mask = labels_dbscan != -1\n",
        "if len(set(labels_dbscan)) > 1 and np.sum(mask) > 0:\n",
        "    sil_dbscan = silhouette_score(X_scaled[mask], labels_dbscan[mask])\n",
        "    ch_dbscan = calinski_harabasz_score(X_scaled[mask], labels_dbscan[mask])\n",
        "    db_dbscan = davies_bouldin_score(X_scaled[mask], labels_dbscan[mask])\n",
        "else:\n",
        "    sil_dbscan = ch_dbscan = db_dbscan = None\n",
        "\n",
        "print(\"\\nModel Evaluation (DBSCAN Clustering)\")\n",
        "print(\"Silhouette Score:\", sil_dbscan)\n",
        "print(\"Calinski–Harabasz Index:\", ch_dbscan)\n",
        "print(\"Davies–Bouldin Index:\", db_dbscan)"
      ],
      "metadata": {
        "colab": {
          "base_uri": "https://localhost:8080/"
        },
        "id": "T-9QJVFZnc_w",
        "outputId": "54548139-c8d2-4223-8e12-98b965aad184"
      },
      "execution_count": 75,
      "outputs": [
        {
          "output_type": "stream",
          "name": "stdout",
          "text": [
            "Training DBSCAN Clustering.\n",
            "Unique cluster labels: [-1  0  1]\n",
            "\n",
            "Model Evaluation (DBSCAN Clustering)\n",
            "Silhouette Score: 0.6175277613371859\n",
            "Calinski–Harabasz Index: 305.3175505102444\n",
            "Davies–Bouldin Index: 0.5325813745463167\n"
          ]
        }
      ]
    },
    {
      "cell_type": "markdown",
      "source": [
        "  * Unique cluster labels: [-1, 0, 1]\n",
        "  * DBSCAN created 2 main clusters (0 and 1) and identified some noise points (-1) that don’t belong to any cluster.\n",
        "\n",
        "* Silhouette Score: 0.6175\n",
        "→ Indicates that clusters are well-separated and dense. A value closer to 1 means better clustering.\n",
        "\n",
        "* Calinski–Harabasz Index: 305.31\n",
        "→ High value shows clear and distinct cluster boundaries.\n",
        "\n",
        "* Davies–Bouldin Index: 0.53\n",
        "→ Lower value means better compactness and separation between clusters."
      ],
      "metadata": {
        "id": "_yDaFLDiwbBM"
      }
    },
    {
      "cell_type": "code",
      "source": [
        "# Visualization\n",
        "plt.figure(figsize=(6, 5))\n",
        "sns.scatterplot(x=X_scaled[:, 0], y=X_scaled[:, 1],\n",
        "                hue=labels_dbscan, palette='tab10', s=25)\n",
        "plt.title(\"DBSCAN Clustering Visualization\")\n",
        "plt.xlabel(\"Feature 1\")\n",
        "plt.ylabel(\"Feature 2\")\n",
        "plt.legend(title='Cluster', loc='best', bbox_to_anchor=(1.05, 1))\n",
        "plt.show()"
      ],
      "metadata": {
        "colab": {
          "base_uri": "https://localhost:8080/",
          "height": 487
        },
        "id": "FMz0xcbXnnZ1",
        "outputId": "5ce68414-71e8-4309-c96f-89232051049d"
      },
      "execution_count": 76,
      "outputs": [
        {
          "output_type": "display_data",
          "data": {
            "text/plain": [
              "<Figure size 600x500 with 1 Axes>"
            ],
            "image/png": "[encoded data removed]"
          },
          "metadata": {}
        }
      ]
    },
    {
      "cell_type": "markdown",
      "source": [
        "A comparative analysis helps evaluate which clustering algorithm performs best using different metrics.\n",
        "\n",
        "The three main metrics are:\n",
        "\n",
        "Silhouette Score: Measures cluster separation — higher is better.\n",
        "\n",
        "Calinski–Harabasz Index: Measures cluster compactness — higher is better.\n",
        "\n",
        "Davies–Bouldin Index: Measures cluster similarity — lower is better."
      ],
      "metadata": {
        "id": "aTcWuC-jwvyP"
      }
    },
    {
      "cell_type": "code",
      "source": [
        "# Comparison of Models\n",
        "summary_cluster = pd.DataFrame({\n",
        "    'Model': ['K-Means', 'Hierarchical', 'DBSCAN'],\n",
        "    'Silhouette Score': [sil_kmeans, sil_ward, sil_dbscan],\n",
        "    'Calinski–Harabasz Index': [ch_kmeans, ch_ward, ch_dbscan],\n",
        "    'Davies–Bouldin Index': [db_kmeans, db_ward, db_dbscan]\n",
        "})\n",
        "\n",
        "print(\"\\nClustering Model Comparison Summary:\")\n",
        "summary_cluster\n"
      ],
      "metadata": {
        "colab": {
          "base_uri": "https://localhost:8080/",
          "height": 178
        },
        "id": "83Y_eCaknzSF",
        "outputId": "db21661c-61b7-4ea5-ab8e-37ff96ccb115"
      },
      "execution_count": 77,
      "outputs": [
        {
          "output_type": "stream",
          "name": "stdout",
          "text": [
            "\n",
            "Clustering Model Comparison Summary:\n"
          ]
        },
        {
          "output_type": "execute_result",
          "data": {
            "text/plain": [
              "          Model  Silhouette Score  Calinski–Harabasz Index  \\\n",
              "0       K-Means          0.581750               251.349339   \n",
              "1  Hierarchical          0.446689               222.719164   \n",
              "2        DBSCAN          0.617528               305.317551   \n",
              "\n",
              "   Davies–Bouldin Index  \n",
              "0              0.593313  \n",
              "1              0.803467  \n",
              "2              0.532581  "
            ],
            "text/html": [
              "\n",
              "  <div id=\"df-0423d0cc-6508-409d-8323-46a78a8061ea\" class=\"colab-df-container\">\n",
              "    <div>\n",
              "<style scoped>\n",
              "    .dataframe tbody tr th:only-of-type {\n",
              "        vertical-align: middle;\n",
              "    }\n",
              "\n",
              "    .dataframe tbody tr th {\n",
              "        vertical-align: top;\n",
              "    }\n",
              "\n",
              "    .dataframe thead th {\n",
              "        text-align: right;\n",
              "    }\n",
              "</style>\n",
              "<table border=\"1\" class=\"dataframe\">\n",
              "  <thead>\n",
              "    <tr style=\"text-align: right;\">\n",
              "      <th></th>\n",
              "      <th>Model</th>\n",
              "      <th>Silhouette Score</th>\n",
              "      <th>Calinski–Harabasz Index</th>\n",
              "      <th>Davies–Bouldin Index</th>\n",
              "    </tr>\n",
              "  </thead>\n",
              "  <tbody>\n",
              "    <tr>\n",
              "      <th>0</th>\n",
              "      <td>K-Means</td>\n",
              "      <td>0.581750</td>\n",
              "      <td>251.349339</td>\n",
              "      <td>0.593313</td>\n",
              "    </tr>\n",
              "    <tr>\n",
              "      <th>1</th>\n",
              "      <td>Hierarchical</td>\n",
              "      <td>0.446689</td>\n",
              "      <td>222.719164</td>\n",
              "      <td>0.803467</td>\n",
              "    </tr>\n",
              "    <tr>\n",
              "      <th>2</th>\n",
              "      <td>DBSCAN</td>\n",
              "      <td>0.617528</td>\n",
              "      <td>305.317551</td>\n",
              "      <td>0.532581</td>\n",
              "    </tr>\n",
              "  </tbody>\n",
              "</table>\n",
              "</div>\n",
              "    <div class=\"colab-df-buttons\">\n",
              "\n",
              "  <div class=\"colab-df-container\">\n",
              "    <button class=\"colab-df-convert\" onclick=\"convertToInteractive('df-0423d0cc-6508-409d-8323-46a78a8061ea')\"\n",
              "            title=\"Convert this dataframe to an interactive table.\"\n",
              "            style=\"display:none;\">\n",
              "\n",
              "  <svg xmlns=\"http://www.w3.org/2000/svg\" height=\"24px\" viewBox=\"0 -960 960 960\">\n",
              "    <path d=\"M120-120v-720h720v720H120Zm60-500h600v-160H180v160Zm220 220h160v-160H400v160Zm0 220h160v-160H400v160ZM180-400h160v-160H180v160Zm440 0h160v-160H620v160ZM180-180h160v-160H180v160Zm440 0h160v-160H620v160Z\"/>\n",
              "  </svg>\n",
              "    </button>\n",
              "\n",
              "  <style>\n",
              "    .colab-df-container {\n",
              "      display:flex;\n",
              "      gap: 12px;\n",
              "    }\n",
              "\n",
              "    .colab-df-convert {\n",
              "      background-color: #E8F0FE;\n",
              "      border: none;\n",
              "      border-radius: 50%;\n",
              "      cursor: pointer;\n",
              "      display: none;\n",
              "      fill: #1967D2;\n",
              "      height: 32px;\n",
              "      padding: 0 0 0 0;\n",
              "      width: 32px;\n",
              "    }\n",
              "\n",
              "    .colab-df-convert:hover {\n",
              "      background-color: #E2EBFA;\n",
              "      box-shadow: 0px 1px 2px rgba(60, 64, 67, 0.3), 0px 1px 3px 1px rgba(60, 64, 67, 0.15);\n",
              "      fill: #174EA6;\n",
              "    }\n",
              "\n",
              "    .colab-df-buttons div {\n",
              "      margin-bottom: 4px;\n",
              "    }\n",
              "\n",
              "    [theme=dark] .colab-df-convert {\n",
              "      background-color: #3B4455;\n",
              "      fill: #D2E3FC;\n",
              "    }\n",
              "\n",
              "    [theme=dark] .colab-df-convert:hover {\n",
              "      background-color: #434B5C;\n",
              "      box-shadow: 0px 1px 3px 1px rgba(0, 0, 0, 0.15);\n",
              "      filter: drop-shadow(0px 1px 2px rgba(0, 0, 0, 0.3));\n",
              "      fill: #FFFFFF;\n",
              "    }\n",
              "  </style>\n",
              "\n",
              "    <script>\n",
              "      const buttonEl =\n",
              "        document.querySelector('#df-0423d0cc-6508-409d-8323-46a78a8061ea button.colab-df-convert');\n",
              "      buttonEl.style.display =\n",
              "        google.colab.kernel.accessAllowed ? 'block' : 'none';\n",
              "\n",
              "      async function convertToInteractive(key) {\n",
              "        const element = document.querySelector('#df-0423d0cc-6508-409d-8323-46a78a8061ea');\n",
              "        const dataTable =\n",
              "          await google.colab.kernel.invokeFunction('convertToInteractive',\n",
              "                                                    [key], {});\n",
              "        if (!dataTable) return;\n",
              "\n",
              "        const docLinkHtml = 'Like what you see? Visit the ' +\n",
              "          '<a target=\"_blank\" href=https://colab.research.google.com/notebooks/data_table.ipynb>data table notebook</a>'\n",
              "          + ' to learn more about interactive tables.';\n",
              "        element.innerHTML = '';\n",
              "        dataTable['output_type'] = 'display_data';\n",
              "        await google.colab.output.renderOutput(dataTable, element);\n",
              "        const docLink = document.createElement('div');\n",
              "        docLink.innerHTML = docLinkHtml;\n",
              "        element.appendChild(docLink);\n",
              "      }\n",
              "    </script>\n",
              "  </div>\n",
              "\n",
              "\n",
              "    <div id=\"df-522da7c7-5e6a-43cb-a1c0-0f56dc01a169\">\n",
              "      <button class=\"colab-df-quickchart\" onclick=\"quickchart('df-522da7c7-5e6a-43cb-a1c0-0f56dc01a169')\"\n",
              "                title=\"Suggest charts\"\n",
              "                style=\"display:none;\">\n",
              "\n",
              "<svg xmlns=\"http://www.w3.org/2000/svg\" height=\"24px\"viewBox=\"0 0 24 24\"\n",
              "     width=\"24px\">\n",
              "    <g>\n",
              "        <path d=\"M19 3H5c-1.1 0-2 .9-2 2v14c0 1.1.9 2 2 2h14c1.1 0 2-.9 2-2V5c0-1.1-.9-2-2-2zM9 17H7v-7h2v7zm4 0h-2V7h2v10zm4 0h-2v-4h2v4z\"/>\n",
              "    </g>\n",
              "</svg>\n",
              "      </button>\n",
              "\n",
              "<style>\n",
              "  .colab-df-quickchart {\n",
              "      --bg-color: #E8F0FE;\n",
              "      --fill-color: #1967D2;\n",
              "      --hover-bg-color: #E2EBFA;\n",
              "      --hover-fill-color: #174EA6;\n",
              "      --disabled-fill-color: #AAA;\n",
              "      --disabled-bg-color: #DDD;\n",
              "  }\n",
              "\n",
              "  [theme=dark] .colab-df-quickchart {\n",
              "      --bg-color: #3B4455;\n",
              "      --fill-color: #D2E3FC;\n",
              "      --hover-bg-color: #434B5C;\n",
              "      --hover-fill-color: #FFFFFF;\n",
              "      --disabled-bg-color: #3B4455;\n",
              "      --disabled-fill-color: #666;\n",
              "  }\n",
              "\n",
              "  .colab-df-quickchart {\n",
              "    background-color: var(--bg-color);\n",
              "    border: none;\n",
              "    border-radius: 50%;\n",
              "    cursor: pointer;\n",
              "    display: none;\n",
              "    fill: var(--fill-color);\n",
              "    height: 32px;\n",
              "    padding: 0;\n",
              "    width: 32px;\n",
              "  }\n",
              "\n",
              "  .colab-df-quickchart:hover {\n",
              "    background-color: var(--hover-bg-color);\n",
              "    box-shadow: 0 1px 2px rgba(60, 64, 67, 0.3), 0 1px 3px 1px rgba(60, 64, 67, 0.15);\n",
              "    fill: var(--button-hover-fill-color);\n",
              "  }\n",
              "\n",
              "  .colab-df-quickchart-complete:disabled,\n",
              "  .colab-df-quickchart-complete:disabled:hover {\n",
              "    background-color: var(--disabled-bg-color);\n",
              "    fill: var(--disabled-fill-color);\n",
              "    box-shadow: none;\n",
              "  }\n",
              "\n",
              "  .colab-df-spinner {\n",
              "    border: 2px solid var(--fill-color);\n",
              "    border-color: transparent;\n",
              "    border-bottom-color: var(--fill-color);\n",
              "    animation:\n",
              "      spin 1s steps(1) infinite;\n",
              "  }\n",
              "\n",
              "  @keyframes spin {\n",
              "    0% {\n",
              "      border-color: transparent;\n",
              "      border-bottom-color: var(--fill-color);\n",
              "      border-left-color: var(--fill-color);\n",
              "    }\n",
              "    20% {\n",
              "      border-color: transparent;\n",
              "      border-left-color: var(--fill-color);\n",
              "      border-top-color: var(--fill-color);\n",
              "    }\n",
              "    30% {\n",
              "      border-color: transparent;\n",
              "      border-left-color: var(--fill-color);\n",
              "      border-top-color: var(--fill-color);\n",
              "      border-right-color: var(--fill-color);\n",
              "    }\n",
              "    40% {\n",
              "      border-color: transparent;\n",
              "      border-right-color: var(--fill-color);\n",
              "      border-top-color: var(--fill-color);\n",
              "    }\n",
              "    60% {\n",
              "      border-color: transparent;\n",
              "      border-right-color: var(--fill-color);\n",
              "    }\n",
              "    80% {\n",
              "      border-color: transparent;\n",
              "      border-right-color: var(--fill-color);\n",
              "      border-bottom-color: var(--fill-color);\n",
              "    }\n",
              "    90% {\n",
              "      border-color: transparent;\n",
              "      border-bottom-color: var(--fill-color);\n",
              "    }\n",
              "  }\n",
              "</style>\n",
              "\n",
              "      <script>\n",
              "        async function quickchart(key) {\n",
              "          const quickchartButtonEl =\n",
              "            document.querySelector('#' + key + ' button');\n",
              "          quickchartButtonEl.disabled = true;  // To prevent multiple clicks.\n",
              "          quickchartButtonEl.classList.add('colab-df-spinner');\n",
              "          try {\n",
              "            const charts = await google.colab.kernel.invokeFunction(\n",
              "                'suggestCharts', [key], {});\n",
              "          } catch (error) {\n",
              "            console.error('Error during call to suggestCharts:', error);\n",
              "          }\n",
              "          quickchartButtonEl.classList.remove('colab-df-spinner');\n",
              "          quickchartButtonEl.classList.add('colab-df-quickchart-complete');\n",
              "        }\n",
              "        (() => {\n",
              "          let quickchartButtonEl =\n",
              "            document.querySelector('#df-522da7c7-5e6a-43cb-a1c0-0f56dc01a169 button');\n",
              "          quickchartButtonEl.style.display =\n",
              "            google.colab.kernel.accessAllowed ? 'block' : 'none';\n",
              "        })();\n",
              "      </script>\n",
              "    </div>\n",
              "\n",
              "  <div id=\"id_a4a118ea-aaac-40a3-aaa0-2f5ee47ed564\">\n",
              "    <style>\n",
              "      .colab-df-generate {\n",
              "        background-color: #E8F0FE;\n",
              "        border: none;\n",
              "        border-radius: 50%;\n",
              "        cursor: pointer;\n",
              "        display: none;\n",
              "        fill: #1967D2;\n",
              "        height: 32px;\n",
              "        padding: 0 0 0 0;\n",
              "        width: 32px;\n",
              "      }\n",
              "\n",
              "      .colab-df-generate:hover {\n",
              "        background-color: #E2EBFA;\n",
              "        box-shadow: 0px 1px 2px rgba(60, 64, 67, 0.3), 0px 1px 3px 1px rgba(60, 64, 67, 0.15);\n",
              "        fill: #174EA6;\n",
              "      }\n",
              "\n",
              "      [theme=dark] .colab-df-generate {\n",
              "        background-color: #3B4455;\n",
              "        fill: #D2E3FC;\n",
              "      }\n",
              "\n",
              "      [theme=dark] .colab-df-generate:hover {\n",
              "        background-color: #434B5C;\n",
              "        box-shadow: 0px 1px 3px 1px rgba(0, 0, 0, 0.15);\n",
              "        filter: drop-shadow(0px 1px 2px rgba(0, 0, 0, 0.3));\n",
              "        fill: #FFFFFF;\n",
              "      }\n",
              "    </style>\n",
              "    <button class=\"colab-df-generate\" onclick=\"generateWithVariable('summary_cluster')\"\n",
              "            title=\"Generate code using this dataframe.\"\n",
              "            style=\"display:none;\">\n",
              "\n",
              "  <svg xmlns=\"http://www.w3.org/2000/svg\" height=\"24px\"viewBox=\"0 0 24 24\"\n",
              "       width=\"24px\">\n",
              "    <path d=\"M7,19H8.4L18.45,9,17,7.55,7,17.6ZM5,21V16.75L18.45,3.32a2,2,0,0,1,2.83,0l1.4,1.43a1.91,1.91,0,0,1,.58,1.4,1.91,1.91,0,0,1-.58,1.4L9.25,21ZM18.45,9,17,7.55Zm-12,3A5.31,5.31,0,0,0,4.9,8.1,5.31,5.31,0,0,0,1,6.5,5.31,5.31,0,0,0,4.9,4.9,5.31,5.31,0,0,0,6.5,1,5.31,5.31,0,0,0,8.1,4.9,5.31,5.31,0,0,0,12,6.5,5.46,5.46,0,0,0,6.5,12Z\"/>\n",
              "  </svg>\n",
              "    </button>\n",
              "    <script>\n",
              "      (() => {\n",
              "      const buttonEl =\n",
              "        document.querySelector('#id_a4a118ea-aaac-40a3-aaa0-2f5ee47ed564 button.colab-df-generate');\n",
              "      buttonEl.style.display =\n",
              "        google.colab.kernel.accessAllowed ? 'block' : 'none';\n",
              "\n",
              "      buttonEl.onclick = () => {\n",
              "        google.colab.notebook.generateWithVariable('summary_cluster');\n",
              "      }\n",
              "      })();\n",
              "    </script>\n",
              "  </div>\n",
              "\n",
              "    </div>\n",
              "  </div>\n"
            ],
            "application/vnd.google.colaboratory.intrinsic+json": {
              "type": "dataframe",
              "variable_name": "summary_cluster",
              "summary": "{\n  \"name\": \"summary_cluster\",\n  \"rows\": 3,\n  \"fields\": [\n    {\n      \"column\": \"Model\",\n      \"properties\": {\n        \"dtype\": \"string\",\n        \"num_unique_values\": 3,\n        \"samples\": [\n          \"K-Means\",\n          \"Hierarchical\",\n          \"DBSCAN\"\n        ],\n        \"semantic_type\": \"\",\n        \"description\": \"\"\n      }\n    },\n    {\n      \"column\": \"Silhouette Score\",\n      \"properties\": {\n        \"dtype\": \"number\",\n        \"std\": 0.09009937936373899,\n        \"min\": 0.4466890410285909,\n        \"max\": 0.6175277613371859,\n        \"num_unique_values\": 3,\n        \"samples\": [\n          0.5817500491982808,\n          0.4466890410285909,\n          0.6175277613371859\n        ],\n        \"semantic_type\": \"\",\n        \"description\": \"\"\n      }\n    },\n    {\n      \"column\": \"Calinski\\u2013Harabasz Index\",\n      \"properties\": {\n        \"dtype\": \"number\",\n        \"std\": 41.94192064482518,\n        \"min\": 222.71916382215363,\n        \"max\": 305.3175505102444,\n        \"num_unique_values\": 3,\n        \"samples\": [\n          251.34933946458108,\n          222.71916382215363,\n          305.3175505102444\n        ],\n        \"semantic_type\": \"\",\n        \"description\": \"\"\n      }\n    },\n    {\n      \"column\": \"Davies\\u2013Bouldin Index\",\n      \"properties\": {\n        \"dtype\": \"number\",\n        \"std\": 0.14214528758351744,\n        \"min\": 0.5325813745463167,\n        \"max\": 0.8034665302876755,\n        \"num_unique_values\": 3,\n        \"samples\": [\n          0.5933126905762435,\n          0.8034665302876755,\n          0.5325813745463167\n        ],\n        \"semantic_type\": \"\",\n        \"description\": \"\"\n      }\n    }\n  ]\n}"
            }
          },
          "metadata": {},
          "execution_count": 77
        }
      ]
    },
    {
      "cell_type": "markdown",
      "source": [
        "From the results:\n",
        "\n",
        "\n",
        "DBSCAN gives the best performance overall with the highest Silhouette and Calinski–Harabasz values and lowest Davies–Bouldin index.\n",
        "\n",
        "\n",
        "This shows that DBSCAN formed well-separated and dense clusters compared to K-Means and Hierarchical clustering.\n",
        "\n"
      ],
      "metadata": {
        "id": "rKHu4L5Ew0Y8"
      }
    },
    {
      "cell_type": "code",
      "source": [
        "# Visualization\n",
        "plt.figure(figsize=(7, 5))\n",
        "sns.barplot(x='Model', y='Silhouette Score', hue='Model',\n",
        "            data=summary_cluster, palette='viridis', legend=False)\n",
        "plt.title(\"Comparison of Clustering Models (Silhouette Score)\")\n",
        "plt.xlabel(\"Model\")\n",
        "plt.ylabel(\"Silhouette Score\")\n",
        "plt.show()"
      ],
      "metadata": {
        "colab": {
          "base_uri": "https://localhost:8080/",
          "height": 487
        },
        "id": "sJTMi1GBn4jK",
        "outputId": "6e3fe8ce-0a82-4e9b-df36-5e50b28cfd41"
      },
      "execution_count": 78,
      "outputs": [
        {
          "output_type": "display_data",
          "data": {
            "text/plain": [
              "<Figure size 700x500 with 1 Axes>"
            ],
            "image/png": "[encoded data removed]"
          },
          "metadata": {}
        }
      ]
    },
    {
      "cell_type": "markdown",
      "source": [
        "## Conclusion\n",
        "\n",
        "In the self-learning section, multiple clustering techniques were explored to compare their performance on the Iris dataset.\n",
        "Using Elbow Method and Silhouette Score, the best number of clusters was found to be k = 2.\n",
        "Then, Hierarchical Clustering (Ward Linkage) and DBSCAN were applied for comparison.\n",
        "\n",
        "From the results:\n",
        "\n",
        "* K-Means formed compact and clear clusters.\n",
        "\n",
        "* Hierarchical Clustering gave moderate results with less separation.\n",
        "\n",
        "* DBSCAN performed the best with high Silhouette and Calinski–Harabasz scores and a low Davies–Bouldin index, meaning it created the most natural and dense clusters.\n",
        "\n",
        "Overall, this self-learning exercise improved understanding of how different clustering algorithms behave and how to evaluate them using performance metrics."
      ],
      "metadata": {
        "id": "EMbJdJ2lxKcG"
      }
    }
  ]
}